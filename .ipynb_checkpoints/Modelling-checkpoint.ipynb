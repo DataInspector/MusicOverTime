{
 "cells": [
  {
   "cell_type": "markdown",
   "metadata": {},
   "source": [
    "# Import Packages"
   ]
  },
  {
   "cell_type": "code",
   "execution_count": 1,
   "metadata": {
    "ExecuteTime": {
     "end_time": "2019-07-02T08:11:43.583813Z",
     "start_time": "2019-07-02T08:09:38.183206Z"
    }
   },
   "outputs": [
    {
     "name": "stderr",
     "output_type": "stream",
     "text": [
      "Using TensorFlow backend.\n"
     ]
    }
   ],
   "source": [
    "import pandas as pd\n",
    "import numpy as np\n",
    "import sklearn\n",
    "import re\n",
    "import math\n",
    "import requests as re\n",
    "import matplotlib.pyplot as plt\n",
    "from operator import add\n",
    "from keras import optimizers\n",
    "from sklearn.model_selection import train_test_split\n",
    "from sklearn.feature_extraction.text import CountVectorizer, TfidfVectorizer\n",
    "from nltk.corpus import stopwords\n",
    "import seaborn as sns\n",
    "from sklearn.linear_model import LinearRegression, LogisticRegression\n",
    "from sklearn.metrics import mean_squared_error, mean_absolute_error, f1_score, roc_auc_score, confusion_matrix, accuracy_score\n",
    "from keras.models import Sequential\n",
    "from keras import layers\n",
    "from keras.utils import to_categorical, np_utils\n",
    "from keras.preprocessing.text import Tokenizer\n",
    "from sklearn.preprocessing import LabelEncoder\n",
    "from keras.preprocessing.sequence import pad_sequences"
   ]
  },
  {
   "cell_type": "code",
   "execution_count": 5,
   "metadata": {
    "ExecuteTime": {
     "end_time": "2019-07-02T08:18:55.882131Z",
     "start_time": "2019-07-02T08:18:52.050647Z"
    }
   },
   "outputs": [
    {
     "data": {
      "text/html": [
       "<div>\n",
       "<style scoped>\n",
       "    .dataframe tbody tr th:only-of-type {\n",
       "        vertical-align: middle;\n",
       "    }\n",
       "\n",
       "    .dataframe tbody tr th {\n",
       "        vertical-align: top;\n",
       "    }\n",
       "\n",
       "    .dataframe thead th {\n",
       "        text-align: right;\n",
       "    }\n",
       "</style>\n",
       "<table border=\"1\" class=\"dataframe\">\n",
       "  <thead>\n",
       "    <tr style=\"text-align: right;\">\n",
       "      <th></th>\n",
       "      <th>Rank</th>\n",
       "      <th>Date</th>\n",
       "      <th>Track</th>\n",
       "      <th>Artist1</th>\n",
       "      <th>Artist2</th>\n",
       "      <th>Genre1</th>\n",
       "      <th>Genre2</th>\n",
       "      <th>LyricsClean</th>\n",
       "      <th>TrackArtist</th>\n",
       "    </tr>\n",
       "  </thead>\n",
       "  <tbody>\n",
       "    <tr>\n",
       "      <th>0</th>\n",
       "      <td>1.0</td>\n",
       "      <td>1958-08-04</td>\n",
       "      <td>Poor Little Fool</td>\n",
       "      <td>Ricky Nelson</td>\n",
       "      <td>Ricky Nelson</td>\n",
       "      <td>Pop/Rock</td>\n",
       "      <td>Rock</td>\n",
       "      <td>I used to play around with hearts that hastene...</td>\n",
       "      <td>Poor Little Fool By Ricky Nelson</td>\n",
       "    </tr>\n",
       "    <tr>\n",
       "      <th>1</th>\n",
       "      <td>2.0</td>\n",
       "      <td>1958-08-04</td>\n",
       "      <td>Patricia</td>\n",
       "      <td>Perez Prado And His Orchestra</td>\n",
       "      <td>Perez Prado</td>\n",
       "      <td>Latin</td>\n",
       "      <td>NaN</td>\n",
       "      <td>Instrumental</td>\n",
       "      <td>Patricia By Perez Prado And His Orchestra</td>\n",
       "    </tr>\n",
       "    <tr>\n",
       "      <th>2</th>\n",
       "      <td>3.0</td>\n",
       "      <td>1958-08-04</td>\n",
       "      <td>Splish Splash</td>\n",
       "      <td>Bobby Darin</td>\n",
       "      <td>Bobby Darin</td>\n",
       "      <td>Pop/Rock</td>\n",
       "      <td>Blues</td>\n",
       "      <td>splish splash I was taking a bath long about a...</td>\n",
       "      <td>Splish Splash By  Bobby Darin</td>\n",
       "    </tr>\n",
       "    <tr>\n",
       "      <th>3</th>\n",
       "      <td>4.0</td>\n",
       "      <td>1958-08-04</td>\n",
       "      <td>Hard Headed Woman</td>\n",
       "      <td>Elvis Presley With The Jordanaires</td>\n",
       "      <td>Elvis Presley</td>\n",
       "      <td>Pop/Rock</td>\n",
       "      <td>Rock</td>\n",
       "      <td>Well a hard headed woman, A soft hearted man B...</td>\n",
       "      <td>Hard Headed Woman By Elvis Presley With The Jo...</td>\n",
       "    </tr>\n",
       "    <tr>\n",
       "      <th>4</th>\n",
       "      <td>5.0</td>\n",
       "      <td>1958-08-04</td>\n",
       "      <td>When</td>\n",
       "      <td>Kalin Twins</td>\n",
       "      <td>Kalin Twins</td>\n",
       "      <td>Pop/Rock</td>\n",
       "      <td>Pop</td>\n",
       "      <td>NaN</td>\n",
       "      <td>When By Kalin Twins</td>\n",
       "    </tr>\n",
       "  </tbody>\n",
       "</table>\n",
       "</div>"
      ],
      "text/plain": [
       "   Rank        Date              Track                             Artist1  \\\n",
       "0   1.0  1958-08-04   Poor Little Fool                        Ricky Nelson   \n",
       "1   2.0  1958-08-04           Patricia       Perez Prado And His Orchestra   \n",
       "2   3.0  1958-08-04      Splish Splash                         Bobby Darin   \n",
       "3   4.0  1958-08-04  Hard Headed Woman  Elvis Presley With The Jordanaires   \n",
       "4   5.0  1958-08-04               When                         Kalin Twins   \n",
       "\n",
       "          Artist2    Genre1 Genre2  \\\n",
       "0    Ricky Nelson  Pop/Rock   Rock   \n",
       "1     Perez Prado     Latin    NaN   \n",
       "2     Bobby Darin  Pop/Rock  Blues   \n",
       "3  Elvis Presley   Pop/Rock   Rock   \n",
       "4     Kalin Twins  Pop/Rock    Pop   \n",
       "\n",
       "                                         LyricsClean  \\\n",
       "0  I used to play around with hearts that hastene...   \n",
       "1                                       Instrumental   \n",
       "2  splish splash I was taking a bath long about a...   \n",
       "3  Well a hard headed woman, A soft hearted man B...   \n",
       "4                                                NaN   \n",
       "\n",
       "                                         TrackArtist  \n",
       "0                   Poor Little Fool By Ricky Nelson  \n",
       "1          Patricia By Perez Prado And His Orchestra  \n",
       "2                      Splish Splash By  Bobby Darin  \n",
       "3  Hard Headed Woman By Elvis Presley With The Jo...  \n",
       "4                                When By Kalin Twins  "
      ]
     },
     "execution_count": 5,
     "metadata": {},
     "output_type": "execute_result"
    }
   ],
   "source": [
    "Data = pd.read_csv(\"CleanData.csv\").drop(columns = [\"Unnamed: 0\",\"LyricsOriginal\"])\n",
    "Data[\"TrackArtist\"] = Data.Track +\" By \"+ Data.Artist1\n",
    "Data.head()"
   ]
  },
  {
   "cell_type": "markdown",
   "metadata": {},
   "source": [
    "# Artists Performance"
   ]
  },
  {
   "cell_type": "code",
   "execution_count": null,
   "metadata": {
    "ExecuteTime": {
     "end_time": "2019-07-01T10:10:33.549999Z",
     "start_time": "2019-07-01T10:10:33.408098Z"
    }
   },
   "outputs": [],
   "source": [
    "ArtistAll = Data.Artist2[Data.Artist2!=\"Nan\"].value_counts()[0:10]\n",
    "ArtistTop10 = Data.Artist2[(Data.Artist2!=\"Nan\") & (Data.Rank <= 10)].value_counts()[0:10]\n",
    "ArtistTop3 = Data.Artist2[(Data.Artist2!=\"Nan\") & (Data.Rank <= 3)].value_counts()[0:10]\n",
    "ArtistTop1 = Data.Artist2[(Data.Artist2!=\"Nan\") & (Data.Rank <= 1)].value_counts()[0:10]\n",
    "ArtistData = pd.DataFrame({\n",
    "    \"Rank\" : list(range(1,11)),\n",
    "    \"MostWeeksWithSongsAtTopCharts\" : [str(i)+\" : \"+str(j) for j, i in zip(ArtistTop1.tolist(),pd.DataFrame(ArtistTop1).index.tolist())],\n",
    "    \"MostWeeksWithSongsInTop3Charts\" : [str(i)+\" : \"+str(j) for j, i in zip(ArtistTop3.tolist(),pd.DataFrame(ArtistTop3).index.tolist())],\n",
    "    \"MostWeeksWithSongsInTop10Charts\" : [str(i)+\" : \"+str(j) for j, i in zip(ArtistTop10.tolist(),pd.DataFrame(ArtistTop10).index.tolist())],\n",
    "    \"MostWeeksWithSongsInTop100Charts\" : [str(i)+\" : \"+str(j) for j, i in zip(ArtistAll.tolist(),pd.DataFrame(ArtistAll).index.tolist())]\n",
    "})\n",
    "ArtistData.to_csv(\"Leaderboards/ArtistLeaderboards.csv\")\n",
    "ArtistData.head()"
   ]
  },
  {
   "cell_type": "markdown",
   "metadata": {},
   "source": [
    "# Songs Performance"
   ]
  },
  {
   "cell_type": "code",
   "execution_count": null,
   "metadata": {
    "ExecuteTime": {
     "start_time": "2019-07-01T10:09:54.686Z"
    }
   },
   "outputs": [],
   "source": [
    "SongsAll = Data.TrackArtist[Data.TrackArtist!=\"Nan\"].value_counts()[0:10]\n",
    "SongsTop10 = Data.TrackArtist[(Data.TrackArtist!=\"Nan\") & (Data.Rank <= 10)].value_counts()[0:10]\n",
    "SongsTop3 = Data.TrackArtist[(Data.TrackArtist!=\"Nan\") & (Data.Rank <= 3)].value_counts()[0:10]\n",
    "SongsTop1 = Data.TrackArtist[(Data.TrackArtist!=\"Nan\") & (Data.Rank <= 1)].value_counts()[0:10]\n",
    "SongsData = pd.DataFrame({\n",
    "    \"Rank\" : list(range(1,11)),\n",
    "    \"MostWeeksAtTopCharts\" : [str(i)+\" : \"+str(j) for j, i in zip(SongsTop1.tolist(),pd.DataFrame(SongsTop1).index.tolist())],\n",
    "    \"MostWeeksInTop3Charts\" : [str(i)+\" : \"+str(j) for j, i in zip(SongsTop3.tolist(),pd.DataFrame(SongsTop3).index.tolist())],\n",
    "    \"MostWeeksInTop10Charts\" : [str(i)+\" : \"+str(j) for j, i in zip(SongsTop10.tolist(),pd.DataFrame(SongsTop10).index.tolist())],\n",
    "    \"MostWeeksInTop100Charts\" : [str(i)+\" : \"+str(j) for j, i in zip(SongsAll.tolist(),pd.DataFrame(SongsAll).index.tolist())]\n",
    "})\n",
    "SongsData.to_csv(\"Leaderboards/SongLeaderboards.csv\")\n",
    "SongsData.head()"
   ]
  },
  {
   "cell_type": "markdown",
   "metadata": {},
   "source": [
    "# Genre Data"
   ]
  },
  {
   "cell_type": "code",
   "execution_count": null,
   "metadata": {
    "ExecuteTime": {
     "start_time": "2019-07-01T10:09:54.689Z"
    }
   },
   "outputs": [],
   "source": [
    "GenreData = pd.DataFrame({\"Date\" : Data.Date.unique()})\n",
    "GenreData[\"Blues\"] = [Data[(Data.Date == i) & (Data.Genre2==\"Blues\")].shape[0] for i in GenreData.Date]\n",
    "GenreData[\"Rock\"] = [Data[(Data.Date == i) & (Data.Genre2==\"Rock\")].shape[0] for i in GenreData.Date]\n",
    "GenreData[\"Pop\"] = [Data[(Data.Date == i) & (Data.Genre2==\"Pop\")].shape[0] for i in GenreData.Date]\n",
    "GenreData[\"HipHop\"] = [Data[(Data.Date == i) & (Data.Genre2==\"HipHop\")].shape[0] for i in GenreData.Date]\n",
    "GenreData[\"R&B\"] = [Data[(Data.Date == i) & (Data.Genre2==\"R&B\")].shape[0] for i in GenreData.Date]\n",
    "GenreData[\"Country\"] = [Data[(Data.Date == i) & (Data.Genre2==\"Country\")].shape[0] for i in GenreData.Date]\n",
    "GenreData[\"Folk\"] = [Data[(Data.Date == i) & (Data.Genre2==\"Folk\")].shape[0] for i in GenreData.Date]\n",
    "GenreData[\"Reggae\"] = [Data[(Data.Date == i) & (Data.Genre2==\"Reggae\")].shape[0] for i in GenreData.Date]\n",
    "GenreData[\"Electro\"] = [Data[(Data.Date == i) & (Data.Genre2==\"Electro\")].shape[0] for i in GenreData.Date]\n",
    "GenreData[\"Religous\"] = [Data[(Data.Date == i) & (Data.Genre2==\"Religous\")].shape[0] for i in GenreData.Date]\n",
    "GenreData.head()"
   ]
  },
  {
   "cell_type": "markdown",
   "metadata": {},
   "source": [
    "# Genre Output"
   ]
  },
  {
   "cell_type": "code",
   "execution_count": null,
   "metadata": {
    "ExecuteTime": {
     "start_time": "2019-07-01T10:09:54.692Z"
    }
   },
   "outputs": [],
   "source": [
    "GenreData.to_csv(\"GenreData.csv\")"
   ]
  },
  {
   "cell_type": "markdown",
   "metadata": {},
   "source": [
    "# Build Unique Song Dataset For Neural Network"
   ]
  },
  {
   "cell_type": "code",
   "execution_count": 6,
   "metadata": {
    "ExecuteTime": {
     "end_time": "2019-07-02T08:29:58.305788Z",
     "start_time": "2019-07-02T08:19:02.170466Z"
    }
   },
   "outputs": [
    {
     "data": {
      "text/html": [
       "<div>\n",
       "<style scoped>\n",
       "    .dataframe tbody tr th:only-of-type {\n",
       "        vertical-align: middle;\n",
       "    }\n",
       "\n",
       "    .dataframe tbody tr th {\n",
       "        vertical-align: top;\n",
       "    }\n",
       "\n",
       "    .dataframe thead th {\n",
       "        text-align: right;\n",
       "    }\n",
       "</style>\n",
       "<table border=\"1\" class=\"dataframe\">\n",
       "  <thead>\n",
       "    <tr style=\"text-align: right;\">\n",
       "      <th></th>\n",
       "      <th>TrackArtist</th>\n",
       "      <th>Artist2</th>\n",
       "      <th>Genre1</th>\n",
       "      <th>Genre2</th>\n",
       "      <th>LyricsClean</th>\n",
       "      <th>MaxRank</th>\n",
       "    </tr>\n",
       "  </thead>\n",
       "  <tbody>\n",
       "    <tr>\n",
       "      <th>0</th>\n",
       "      <td>Poor Little Fool By Ricky Nelson</td>\n",
       "      <td>Ricky Nelson</td>\n",
       "      <td>Pop/Rock</td>\n",
       "      <td>Rock</td>\n",
       "      <td>I used to play around with hearts that hastene...</td>\n",
       "      <td>71.0</td>\n",
       "    </tr>\n",
       "    <tr>\n",
       "      <th>1</th>\n",
       "      <td>Patricia By Perez Prado And His Orchestra</td>\n",
       "      <td>Perez Prado</td>\n",
       "      <td>Latin</td>\n",
       "      <td>NaN</td>\n",
       "      <td>Instrumental</td>\n",
       "      <td>85.0</td>\n",
       "    </tr>\n",
       "    <tr>\n",
       "      <th>2</th>\n",
       "      <td>Splish Splash By  Bobby Darin</td>\n",
       "      <td>Bobby Darin</td>\n",
       "      <td>Pop/Rock</td>\n",
       "      <td>Blues</td>\n",
       "      <td>splish splash I was taking a bath long about a...</td>\n",
       "      <td>3.0</td>\n",
       "    </tr>\n",
       "    <tr>\n",
       "      <th>3</th>\n",
       "      <td>Hard Headed Woman By Elvis Presley With The Jo...</td>\n",
       "      <td>Elvis Presley</td>\n",
       "      <td>Pop/Rock</td>\n",
       "      <td>Rock</td>\n",
       "      <td>Well a hard headed woman, A soft hearted man B...</td>\n",
       "      <td>94.0</td>\n",
       "    </tr>\n",
       "    <tr>\n",
       "      <th>4</th>\n",
       "      <td>When By Kalin Twins</td>\n",
       "      <td>Kalin Twins</td>\n",
       "      <td>Pop/Rock</td>\n",
       "      <td>Pop</td>\n",
       "      <td>NaN</td>\n",
       "      <td>64.0</td>\n",
       "    </tr>\n",
       "  </tbody>\n",
       "</table>\n",
       "</div>"
      ],
      "text/plain": [
       "                                         TrackArtist         Artist2  \\\n",
       "0                   Poor Little Fool By Ricky Nelson    Ricky Nelson   \n",
       "1          Patricia By Perez Prado And His Orchestra     Perez Prado   \n",
       "2                      Splish Splash By  Bobby Darin     Bobby Darin   \n",
       "3  Hard Headed Woman By Elvis Presley With The Jo...  Elvis Presley    \n",
       "4                                When By Kalin Twins     Kalin Twins   \n",
       "\n",
       "     Genre1 Genre2                                        LyricsClean  MaxRank  \n",
       "0  Pop/Rock   Rock  I used to play around with hearts that hastene...     71.0  \n",
       "1     Latin    NaN                                       Instrumental     85.0  \n",
       "2  Pop/Rock  Blues  splish splash I was taking a bath long about a...      3.0  \n",
       "3  Pop/Rock   Rock  Well a hard headed woman, A soft hearted man B...     94.0  \n",
       "4  Pop/Rock    Pop                                                NaN     64.0  "
      ]
     },
     "execution_count": 6,
     "metadata": {},
     "output_type": "execute_result"
    }
   ],
   "source": [
    "UniqueData = Data[[\"TrackArtist\",\"Artist2\",\"Genre1\",\"Genre2\",\"LyricsClean\"]].drop_duplicates()\n",
    "UniqueData = UniqueData[UniqueData.TrackArtist.isna() == False]\n",
    "UniqueData[\"MaxRank\"] = [max(Data.Rank[Data.TrackArtist == i]) for i in UniqueData.TrackArtist]\n",
    "UniqueData.head()"
   ]
  },
  {
   "cell_type": "code",
   "execution_count": 7,
   "metadata": {
    "ExecuteTime": {
     "end_time": "2019-07-02T08:29:59.942011Z",
     "start_time": "2019-07-02T08:29:58.394943Z"
    }
   },
   "outputs": [
    {
     "data": {
      "text/plain": [
       "(array([  790.,   893.,   957.,  1039.,  1516.,  1693.,  2346.,  3986.,\n",
       "         7410., 16860.]),\n",
       " array([  1. ,  10.9,  20.8,  30.7,  40.6,  50.5,  60.4,  70.3,  80.2,\n",
       "         90.1, 100. ]),\n",
       " <a list of 10 Patch objects>)"
      ]
     },
     "execution_count": 7,
     "metadata": {},
     "output_type": "execute_result"
    },
    {
     "data": {
      "image/png": "[encoded data removed]",
      "text/plain": [
       "<Figure size 432x288 with 1 Axes>"
      ]
     },
     "metadata": {
      "needs_background": "light"
     },
     "output_type": "display_data"
    }
   ],
   "source": [
    "plt.hist(UniqueData.MaxRank)"
   ]
  },
  {
   "cell_type": "code",
   "execution_count": 8,
   "metadata": {
    "ExecuteTime": {
     "end_time": "2019-07-02T08:30:05.126289Z",
     "start_time": "2019-07-02T08:29:59.943668Z"
    },
    "code_folding": [],
    "scrolled": false
   },
   "outputs": [
    {
     "data": {
      "image/png": "[encoded data removed]",
      "text/plain": [
       "<Figure size 1080x360 with 1 Axes>"
      ]
     },
     "metadata": {
      "needs_background": "light"
     },
     "output_type": "display_data"
    },
    {
     "data": {
      "image/png": "[encoded data removed]",
      "text/plain": [
       "<Figure size 1080x360 with 1 Axes>"
      ]
     },
     "metadata": {
      "needs_background": "light"
     },
     "output_type": "display_data"
    },
    {
     "data": {
      "image/png": "[encoded data removed]",
      "text/plain": [
       "<Figure size 1080x360 with 1 Axes>"
      ]
     },
     "metadata": {
      "needs_background": "light"
     },
     "output_type": "display_data"
    },
    {
     "data": {
      "image/png": "[encoded data removed]",
      "text/plain": [
       "<Figure size 1080x360 with 1 Axes>"
      ]
     },
     "metadata": {
      "needs_background": "light"
     },
     "output_type": "display_data"
    },
    {
     "data": {
      "image/png": "[encoded data removed]",
      "text/plain": [
       "<Figure size 1080x360 with 1 Axes>"
      ]
     },
     "metadata": {
      "needs_background": "light"
     },
     "output_type": "display_data"
    },
    {
     "data": {
      "image/png": "[encoded data removed]",
      "text/plain": [
       "<Figure size 1080x360 with 1 Axes>"
      ]
     },
     "metadata": {
      "needs_background": "light"
     },
     "output_type": "display_data"
    },
    {
     "data": {
      "image/png": "[encoded data removed]",
      "text/plain": [
       "<Figure size 1080x360 with 1 Axes>"
      ]
     },
     "metadata": {
      "needs_background": "light"
     },
     "output_type": "display_data"
    },
    {
     "data": {
      "image/png": "[encoded data removed]",
      "text/plain": [
       "<Figure size 1080x360 with 1 Axes>"
      ]
     },
     "metadata": {
      "needs_background": "light"
     },
     "output_type": "display_data"
    },
    {
     "data": {
      "image/png": "[encoded data removed]",
      "text/plain": [
       "<Figure size 1080x360 with 1 Axes>"
      ]
     },
     "metadata": {
      "needs_background": "light"
     },
     "output_type": "display_data"
    },
    {
     "data": {
      "image/png": "[encoded data removed]",
      "text/plain": [
       "<Figure size 1080x360 with 1 Axes>"
      ]
     },
     "metadata": {
      "needs_background": "light"
     },
     "output_type": "display_data"
    }
   ],
   "source": [
    "for i in UniqueData.Genre2.unique():\n",
    "    if pd.notna(i):\n",
    "        fig, axs = plt.subplots(ncols=1, figsize=(15,5))\n",
    "        sns.distplot(UniqueData.MaxRank[UniqueData.Genre2 == i], ax = axs).set_title(\"Highest Rank Achieved - {}\".format(i))"
   ]
  },
  {
   "cell_type": "markdown",
   "metadata": {},
   "source": [
    "# Split Training, Test, X & Y"
   ]
  },
  {
   "cell_type": "code",
   "execution_count": 9,
   "metadata": {
    "ExecuteTime": {
     "end_time": "2019-07-02T08:30:05.138970Z",
     "start_time": "2019-07-02T08:30:05.127986Z"
    }
   },
   "outputs": [],
   "source": [
    "UniqueData = UniqueData.dropna(subset = [\"LyricsClean\"])"
   ]
  },
  {
   "cell_type": "code",
   "execution_count": 10,
   "metadata": {
    "ExecuteTime": {
     "end_time": "2019-07-02T08:30:05.877030Z",
     "start_time": "2019-07-02T08:30:05.141548Z"
    }
   },
   "outputs": [],
   "source": [
    "UniqueData.to_csv(\"temp.csv\")"
   ]
  },
  {
   "cell_type": "code",
   "execution_count": 11,
   "metadata": {
    "ExecuteTime": {
     "end_time": "2019-07-02T08:30:06.152003Z",
     "start_time": "2019-07-02T08:30:05.879266Z"
    }
   },
   "outputs": [
    {
     "data": {
      "text/html": [
       "<div>\n",
       "<style scoped>\n",
       "    .dataframe tbody tr th:only-of-type {\n",
       "        vertical-align: middle;\n",
       "    }\n",
       "\n",
       "    .dataframe tbody tr th {\n",
       "        vertical-align: top;\n",
       "    }\n",
       "\n",
       "    .dataframe thead th {\n",
       "        text-align: right;\n",
       "    }\n",
       "</style>\n",
       "<table border=\"1\" class=\"dataframe\">\n",
       "  <thead>\n",
       "    <tr style=\"text-align: right;\">\n",
       "      <th></th>\n",
       "      <th>TrackArtist</th>\n",
       "      <th>Artist2</th>\n",
       "      <th>Genre1</th>\n",
       "      <th>Genre2</th>\n",
       "      <th>LyricsClean</th>\n",
       "      <th>MaxRank</th>\n",
       "    </tr>\n",
       "  </thead>\n",
       "  <tbody>\n",
       "    <tr>\n",
       "      <th>0</th>\n",
       "      <td>Poor Little Fool By Ricky Nelson</td>\n",
       "      <td>Ricky Nelson</td>\n",
       "      <td>Pop/Rock</td>\n",
       "      <td>Rock</td>\n",
       "      <td>I used to play around with hearts that hastene...</td>\n",
       "      <td>71.0</td>\n",
       "    </tr>\n",
       "    <tr>\n",
       "      <th>1</th>\n",
       "      <td>Patricia By Perez Prado And His Orchestra</td>\n",
       "      <td>Perez Prado</td>\n",
       "      <td>Latin</td>\n",
       "      <td>NaN</td>\n",
       "      <td>Instrumental</td>\n",
       "      <td>85.0</td>\n",
       "    </tr>\n",
       "    <tr>\n",
       "      <th>2</th>\n",
       "      <td>Splish Splash By  Bobby Darin</td>\n",
       "      <td>Bobby Darin</td>\n",
       "      <td>Pop/Rock</td>\n",
       "      <td>Blues</td>\n",
       "      <td>splish splash I was taking a bath long about a...</td>\n",
       "      <td>3.0</td>\n",
       "    </tr>\n",
       "    <tr>\n",
       "      <th>3</th>\n",
       "      <td>Hard Headed Woman By Elvis Presley With The Jo...</td>\n",
       "      <td>Elvis Presley</td>\n",
       "      <td>Pop/Rock</td>\n",
       "      <td>Rock</td>\n",
       "      <td>Well a hard headed woman, A soft hearted man B...</td>\n",
       "      <td>94.0</td>\n",
       "    </tr>\n",
       "    <tr>\n",
       "      <th>4</th>\n",
       "      <td>Rebel-'rouser By Duane Eddy His Twangy Guitar ...</td>\n",
       "      <td>Duane Eddy</td>\n",
       "      <td>Pop/Rock</td>\n",
       "      <td>Rock</td>\n",
       "      <td>Instrumental</td>\n",
       "      <td>52.0</td>\n",
       "    </tr>\n",
       "  </tbody>\n",
       "</table>\n",
       "</div>"
      ],
      "text/plain": [
       "                                         TrackArtist         Artist2  \\\n",
       "0                   Poor Little Fool By Ricky Nelson    Ricky Nelson   \n",
       "1          Patricia By Perez Prado And His Orchestra     Perez Prado   \n",
       "2                      Splish Splash By  Bobby Darin     Bobby Darin   \n",
       "3  Hard Headed Woman By Elvis Presley With The Jo...  Elvis Presley    \n",
       "4  Rebel-'rouser By Duane Eddy His Twangy Guitar ...     Duane Eddy    \n",
       "\n",
       "     Genre1 Genre2                                        LyricsClean  MaxRank  \n",
       "0  Pop/Rock   Rock  I used to play around with hearts that hastene...     71.0  \n",
       "1     Latin    NaN                                       Instrumental     85.0  \n",
       "2  Pop/Rock  Blues  splish splash I was taking a bath long about a...      3.0  \n",
       "3  Pop/Rock   Rock  Well a hard headed woman, A soft hearted man B...     94.0  \n",
       "4  Pop/Rock   Rock                                       Instrumental     52.0  "
      ]
     },
     "execution_count": 11,
     "metadata": {},
     "output_type": "execute_result"
    }
   ],
   "source": [
    "UniqueData = pd.read_csv(\"temp.csv\").drop(columns = \"Unnamed: 0\")\n",
    "UniqueData.head()"
   ]
  },
  {
   "cell_type": "code",
   "execution_count": 12,
   "metadata": {
    "ExecuteTime": {
     "end_time": "2019-07-02T08:30:06.880275Z",
     "start_time": "2019-07-02T08:30:06.153640Z"
    }
   },
   "outputs": [
    {
     "name": "stdout",
     "output_type": "stream",
     "text": [
      "Numebr Of Nas For Genre1 343\n"
     ]
    },
    {
     "data": {
      "text/plain": [
       "Pop/Rock         10844\n",
       "R&B               5073\n",
       "Country           2184\n",
       "Rap               1918\n",
       "Vocal              829\n",
       "Electronic         494\n",
       "Jazz               227\n",
       "Latin              198\n",
       "Blues              180\n",
       "Folk               171\n",
       "Easy               144\n",
       "Reggae             129\n",
       "Stage               75\n",
       "Religious           61\n",
       "Comedy/Spoken       39\n",
       "International       27\n",
       "Children            18\n",
       "Classical           12\n",
       "New                  8\n",
       "Avant                4\n",
       "Holiday              1\n",
       "Name: Genre1, dtype: int64"
      ]
     },
     "execution_count": 12,
     "metadata": {},
     "output_type": "execute_result"
    }
   ],
   "source": [
    "print(\"Numebr Of Nas For Genre1\",len(UniqueData.Genre1)-UniqueData.Genre1.count())\n",
    "UniqueData.Genre1.value_counts()"
   ]
  },
  {
   "cell_type": "code",
   "execution_count": 13,
   "metadata": {
    "ExecuteTime": {
     "end_time": "2019-07-02T08:30:06.895710Z",
     "start_time": "2019-07-02T08:30:06.881929Z"
    }
   },
   "outputs": [
    {
     "name": "stdout",
     "output_type": "stream",
     "text": [
      "Numebr Of Nas For Genre2 4039\n"
     ]
    },
    {
     "data": {
      "text/plain": [
       "Rock        5239\n",
       "Pop         4090\n",
       "R&B         3011\n",
       "Country     2221\n",
       "HipHop      1871\n",
       "Blues       1678\n",
       "Folk         339\n",
       "Electro      249\n",
       "Reggae       168\n",
       "Religous      74\n",
       "Name: Genre2, dtype: int64"
      ]
     },
     "execution_count": 13,
     "metadata": {},
     "output_type": "execute_result"
    }
   ],
   "source": [
    "print(\"Numebr Of Nas For Genre2\",len(UniqueData.Genre2)-UniqueData.Genre2.count())\n",
    "UniqueData.Genre2.value_counts()"
   ]
  },
  {
   "cell_type": "code",
   "execution_count": 14,
   "metadata": {
    "ExecuteTime": {
     "end_time": "2019-07-02T08:30:07.048679Z",
     "start_time": "2019-07-02T08:30:06.897209Z"
    }
   },
   "outputs": [],
   "source": [
    "UniqueData = UniqueData.dropna(subset=[\"Genre1\"])\n",
    "UniqueData = UniqueData[UniqueData.Genre1.isin([\"Pop/Rock\"\n",
    "                                               ,\"R&B\"       \n",
    "                                               ,\"Country\"   \n",
    "                                               ,\"Rap\"       \n",
    "                                               ,\"Vocal\"     \n",
    "                                               ,\"Electronic\"\n",
    "                                               ,\"Jazz\"      \n",
    "                                               ,\"Latin\"     \n",
    "                                               ,\"Blues\"     \n",
    "                                               ,\"Folk\"      \n",
    "                                               ,\"Easy\"      \n",
    "                                               ,\"Reggae\"])]\n",
    "UniqueData.loc[UniqueData.Genre1==\"Jazz\"] = \"Blues\"\n",
    "UniqueData.loc[UniqueData.Genre1==\"Vocal\"] = \"Folk\"\n",
    "XTrain, XTest, YTrain, YTest = train_test_split(UniqueData[\"LyricsClean\"], UniqueData['Genre1'])"
   ]
  },
  {
   "cell_type": "markdown",
   "metadata": {},
   "source": [
    "# Bag Of Words"
   ]
  },
  {
   "cell_type": "code",
   "execution_count": 15,
   "metadata": {
    "ExecuteTime": {
     "end_time": "2019-07-02T08:30:14.904408Z",
     "start_time": "2019-07-02T08:30:07.050194Z"
    }
   },
   "outputs": [],
   "source": [
    "Vectorizer = TfidfVectorizer()\n",
    "Vectorizer.fit(XTrain)\n",
    "XTrain = Vectorizer.transform(XTrain)\n",
    "XTest  = Vectorizer.transform(XTest)"
   ]
  },
  {
   "cell_type": "markdown",
   "metadata": {},
   "source": [
    "# Baseline Logistic Regression Model"
   ]
  },
  {
   "cell_type": "code",
   "execution_count": 16,
   "metadata": {
    "ExecuteTime": {
     "end_time": "2019-07-02T08:30:18.408328Z",
     "start_time": "2019-07-02T08:30:14.906150Z"
    },
    "scrolled": true
   },
   "outputs": [
    {
     "name": "stderr",
     "output_type": "stream",
     "text": [
      "/home/ubuntu/anaconda3/lib/python3.7/site-packages/sklearn/linear_model/logistic.py:433: FutureWarning: Default solver will be changed to 'lbfgs' in 0.22. Specify a solver to silence this warning.\n",
      "  FutureWarning)\n",
      "/home/ubuntu/anaconda3/lib/python3.7/site-packages/sklearn/linear_model/logistic.py:460: FutureWarning: Default multi_class will be changed to 'auto' in 0.22. Specify the multi_class option to silence this warning.\n",
      "  \"this warning.\", FutureWarning)\n",
      "/home/ubuntu/anaconda3/lib/python3.7/site-packages/sklearn/linear_model/logistic.py:1300: UserWarning: 'n_jobs' > 1 does not have any effect when 'solver' is set to 'liblinear'. Got 'n_jobs' = 4.\n",
      "  \" = {}.\".format(effective_n_jobs(self.n_jobs)))\n"
     ]
    },
    {
     "data": {
      "text/plain": [
       "LogisticRegression(C=1.0, class_weight=None, dual=False, fit_intercept=True,\n",
       "          intercept_scaling=1, max_iter=100, multi_class='warn', n_jobs=-1,\n",
       "          penalty='l2', random_state=None, solver='warn', tol=0.0001,\n",
       "          verbose=0, warm_start=False)"
      ]
     },
     "execution_count": 16,
     "metadata": {},
     "output_type": "execute_result"
    }
   ],
   "source": [
    "Classifier = LogisticRegression(n_jobs=-1)\n",
    "Classifier.fit(XTrain, YTrain)"
   ]
  },
  {
   "cell_type": "code",
   "execution_count": 17,
   "metadata": {
    "ExecuteTime": {
     "end_time": "2019-07-02T08:30:18.415251Z",
     "start_time": "2019-07-02T08:30:18.409967Z"
    }
   },
   "outputs": [
    {
     "data": {
      "text/plain": [
       "array(['Pop/Rock', 'Latin', 'R&B', 'Country', 'Blues', 'Folk', 'Easy',\n",
       "       'Reggae', 'Electronic', 'Rap'], dtype=object)"
      ]
     },
     "execution_count": 17,
     "metadata": {},
     "output_type": "execute_result"
    }
   ],
   "source": [
    "UniqueData.Genre1.unique()"
   ]
  },
  {
   "cell_type": "code",
   "execution_count": 18,
   "metadata": {
    "ExecuteTime": {
     "end_time": "2019-07-02T08:30:18.560935Z",
     "start_time": "2019-07-02T08:30:18.417299Z"
    }
   },
   "outputs": [
    {
     "name": "stdout",
     "output_type": "stream",
     "text": [
      "0.6837968201036146\n",
      "0.6286173633440515\n"
     ]
    },
    {
     "data": {
      "text/plain": [
       "array([[  54,    0,    0,    0,    0,    0,   35,    3,    2,    0],\n",
       "       [   1,   42,    0,    0,    0,    0,  471,   46,    5,    0],\n",
       "       [   0,    0,    1,    0,    0,    0,   33,    3,    0,    0],\n",
       "       [   0,    3,    0,    0,    0,    0,  105,   18,    1,    0],\n",
       "       [   0,    0,    0,    0,  215,    0,   32,    7,    0,    0],\n",
       "       [   0,    1,    0,    0,    0,    6,   35,    4,    0,    0],\n",
       "       [   0,    8,    0,    0,    0,    3, 2489,  196,   11,    1],\n",
       "       [   0,    4,    1,    0,    0,    0,  768,  451,   23,    0],\n",
       "       [   0,    0,    0,    0,    0,    0,  181,   48,  260,    0],\n",
       "       [   0,    0,    0,    0,    0,    0,   20,    5,    5,    1]])"
      ]
     },
     "execution_count": 18,
     "metadata": {},
     "output_type": "execute_result"
    }
   ],
   "source": [
    "print(f1_score(YTrain,Classifier.predict(XTrain), average=\"micro\"))\n",
    "print(f1_score(YTest,Classifier.predict(XTest), average=\"micro\"))\n",
    "confusion_matrix(YTest,Classifier.predict(XTest))"
   ]
  },
  {
   "cell_type": "markdown",
   "metadata": {},
   "source": [
    "# Baseline Deep Learning Model - Sequential Neural Network"
   ]
  },
  {
   "cell_type": "code",
   "execution_count": 19,
   "metadata": {
    "ExecuteTime": {
     "end_time": "2019-07-02T08:30:18.572012Z",
     "start_time": "2019-07-02T08:30:18.562849Z"
    }
   },
   "outputs": [],
   "source": [
    "Encoder = LabelEncoder()\n",
    "Encoder.fit(YTrain)\n",
    "YTrainNum = Encoder.transform(YTrain)\n",
    "YTrainDummy = np_utils.to_categorical(YTrainNum)\n",
    "YTestNum = Encoder.transform(YTest)\n",
    "YTestDummy = np_utils.to_categorical(YTestNum)"
   ]
  },
  {
   "cell_type": "code",
   "execution_count": 20,
   "metadata": {
    "ExecuteTime": {
     "end_time": "2019-07-02T08:30:18.892443Z",
     "start_time": "2019-07-02T08:30:18.573670Z"
    },
    "scrolled": true
   },
   "outputs": [
    {
     "name": "stdout",
     "output_type": "stream",
     "text": [
      "WARNING:tensorflow:From /home/ubuntu/anaconda3/lib/python3.7/site-packages/tensorflow/python/framework/op_def_library.py:263: colocate_with (from tensorflow.python.framework.ops) is deprecated and will be removed in a future version.\n",
      "Instructions for updating:\n",
      "Colocations handled automatically by placer.\n",
      "WARNING:tensorflow:From /home/ubuntu/anaconda3/lib/python3.7/site-packages/keras/backend/tensorflow_backend.py:3445: calling dropout (from tensorflow.python.ops.nn_ops) with keep_prob is deprecated and will be removed in a future version.\n",
      "Instructions for updating:\n",
      "Please use `rate` instead of `keep_prob`. Rate should be set to `rate = 1 - keep_prob`.\n",
      "_________________________________________________________________\n",
      "Layer (type)                 Output Shape              Param #   \n",
      "=================================================================\n",
      "dense_1 (Dense)              (None, 30)                1148790   \n",
      "_________________________________________________________________\n",
      "dropout_1 (Dropout)          (None, 30)                0         \n",
      "_________________________________________________________________\n",
      "dense_2 (Dense)              (None, 20)                620       \n",
      "_________________________________________________________________\n",
      "dropout_2 (Dropout)          (None, 20)                0         \n",
      "_________________________________________________________________\n",
      "dense_3 (Dense)              (None, 10)                210       \n",
      "=================================================================\n",
      "Total params: 1,149,620\n",
      "Trainable params: 1,149,620\n",
      "Non-trainable params: 0\n",
      "_________________________________________________________________\n"
     ]
    }
   ],
   "source": [
    "InputDim = XTrain.shape[1]\n",
    "Model = Sequential()\n",
    "Model.add(layers.Dense(30, input_dim=InputDim, activation='relu'))\n",
    "Model.add(layers.Dropout(rate = 0.4))\n",
    "Model.add(layers.Dense(20, activation='relu'))\n",
    "Model.add(layers.Dropout(rate = 0.4))\n",
    "Model.add(layers.Dense(10, activation='softmax'))\n",
    "\n",
    "Model.compile(loss='categorical_crossentropy', \n",
    "              optimizer=\"adam\",\n",
    "              metrics=[\"acc\"])\n",
    "Model.summary()"
   ]
  },
  {
   "cell_type": "code",
   "execution_count": 21,
   "metadata": {
    "ExecuteTime": {
     "end_time": "2019-07-02T08:36:38.413862Z",
     "start_time": "2019-07-02T08:30:18.894216Z"
    },
    "scrolled": true
   },
   "outputs": [
    {
     "name": "stdout",
     "output_type": "stream",
     "text": [
      "WARNING:tensorflow:From /home/ubuntu/anaconda3/lib/python3.7/site-packages/tensorflow/python/ops/math_ops.py:3066: to_int32 (from tensorflow.python.ops.math_ops) is deprecated and will be removed in a future version.\n",
      "Instructions for updating:\n",
      "Use tf.cast instead.\n",
      "Train on 16793 samples, validate on 5598 samples\n",
      "Epoch 1/25\n",
      "16793/16793 [==============================] - 23s 1ms/step - loss: 1.4660 - acc: 0.5012 - val_loss: 1.2173 - val_acc: 0.5638\n",
      "Epoch 2/25\n",
      "16793/16793 [==============================] - 15s 889us/step - loss: 1.1931 - acc: 0.5832 - val_loss: 1.1122 - val_acc: 0.6268\n",
      "Epoch 3/25\n",
      "16793/16793 [==============================] - 15s 890us/step - loss: 1.0410 - acc: 0.6409 - val_loss: 1.0588 - val_acc: 0.6426\n",
      "Epoch 4/25\n",
      "16793/16793 [==============================] - 15s 888us/step - loss: 0.9165 - acc: 0.6911 - val_loss: 1.0499 - val_acc: 0.6588\n",
      "Epoch 5/25\n",
      "16793/16793 [==============================] - 15s 884us/step - loss: 0.8128 - acc: 0.7294 - val_loss: 1.0777 - val_acc: 0.6708\n",
      "Epoch 6/25\n",
      "16793/16793 [==============================] - 15s 883us/step - loss: 0.7380 - acc: 0.7563 - val_loss: 1.0984 - val_acc: 0.6801\n",
      "Epoch 7/25\n",
      "16793/16793 [==============================] - 15s 885us/step - loss: 0.6859 - acc: 0.7735 - val_loss: 1.1140 - val_acc: 0.6815\n",
      "Epoch 8/25\n",
      "16793/16793 [==============================] - 15s 889us/step - loss: 0.6265 - acc: 0.7957 - val_loss: 1.1598 - val_acc: 0.6890\n",
      "Epoch 9/25\n",
      "16793/16793 [==============================] - 15s 884us/step - loss: 0.6048 - acc: 0.8051 - val_loss: 1.1910 - val_acc: 0.6870\n",
      "Epoch 10/25\n",
      "16793/16793 [==============================] - 15s 881us/step - loss: 0.5719 - acc: 0.8141 - val_loss: 1.2211 - val_acc: 0.6872\n",
      "Epoch 11/25\n",
      "16793/16793 [==============================] - 15s 879us/step - loss: 0.5563 - acc: 0.8151 - val_loss: 1.2558 - val_acc: 0.6897\n",
      "Epoch 12/25\n",
      "16793/16793 [==============================] - 15s 883us/step - loss: 0.5309 - acc: 0.8251 - val_loss: 1.3390 - val_acc: 0.6931\n",
      "Epoch 13/25\n",
      "16793/16793 [==============================] - 15s 884us/step - loss: 0.5080 - acc: 0.8321 - val_loss: 1.3782 - val_acc: 0.6933\n",
      "Epoch 14/25\n",
      "16793/16793 [==============================] - 15s 872us/step - loss: 0.4982 - acc: 0.8351 - val_loss: 1.4035 - val_acc: 0.6904\n",
      "Epoch 15/25\n",
      "16793/16793 [==============================] - 15s 878us/step - loss: 0.4838 - acc: 0.8366 - val_loss: 1.4385 - val_acc: 0.6936\n",
      "Epoch 16/25\n",
      "16793/16793 [==============================] - 15s 879us/step - loss: 0.4754 - acc: 0.8419 - val_loss: 1.5029 - val_acc: 0.6947\n",
      "Epoch 17/25\n",
      "16793/16793 [==============================] - 15s 877us/step - loss: 0.4619 - acc: 0.8400 - val_loss: 1.5302 - val_acc: 0.6960\n",
      "Epoch 18/25\n",
      "16793/16793 [==============================] - 15s 875us/step - loss: 0.4547 - acc: 0.8459 - val_loss: 1.5230 - val_acc: 0.6969\n",
      "Epoch 19/25\n",
      "16793/16793 [==============================] - 15s 877us/step - loss: 0.4521 - acc: 0.8449 - val_loss: 1.5676 - val_acc: 0.6961\n",
      "Epoch 20/25\n",
      "16793/16793 [==============================] - 15s 884us/step - loss: 0.4440 - acc: 0.8454 - val_loss: 1.6162 - val_acc: 0.7015\n",
      "Epoch 21/25\n",
      "16793/16793 [==============================] - 15s 890us/step - loss: 0.4367 - acc: 0.8498 - val_loss: 1.6079 - val_acc: 0.6960\n",
      "Epoch 22/25\n",
      "16793/16793 [==============================] - 15s 892us/step - loss: 0.4295 - acc: 0.8472 - val_loss: 1.6904 - val_acc: 0.6960\n",
      "Epoch 23/25\n",
      "16793/16793 [==============================] - 15s 882us/step - loss: 0.4262 - acc: 0.8508 - val_loss: 1.7029 - val_acc: 0.6985\n",
      "Epoch 24/25\n",
      "16793/16793 [==============================] - 15s 876us/step - loss: 0.4176 - acc: 0.8542 - val_loss: 1.7195 - val_acc: 0.6945\n",
      "Epoch 25/25\n",
      "16793/16793 [==============================] - 15s 881us/step - loss: 0.4164 - acc: 0.8518 - val_loss: 1.7577 - val_acc: 0.6961\n"
     ]
    },
    {
     "data": {
      "text/plain": [
       "<keras.callbacks.History at 0x7f7c196013c8>"
      ]
     },
     "execution_count": 21,
     "metadata": {},
     "output_type": "execute_result"
    }
   ],
   "source": [
    "Model.fit(XTrain, YTrainDummy,\n",
    "          epochs=25,\n",
    "          validation_data=(XTest, YTestDummy),\n",
    "          batch_size=15,\n",
    "          verbose=1)"
   ]
  },
  {
   "cell_type": "code",
   "execution_count": 22,
   "metadata": {
    "ExecuteTime": {
     "end_time": "2019-07-02T08:36:41.745968Z",
     "start_time": "2019-07-02T08:36:38.415530Z"
    }
   },
   "outputs": [
    {
     "name": "stdout",
     "output_type": "stream",
     "text": [
      "0.9035312332519502\n",
      "0.6961414790996785\n"
     ]
    },
    {
     "data": {
      "text/plain": [
       "array([[  58,    1,    0,    0,    0,    0,   12,   21,    2,    0],\n",
       "       [   1,  250,    0,    1,    0,    1,  222,   83,    7,    0],\n",
       "       [   0,    3,    0,    2,    0,    0,   24,    7,    1,    0],\n",
       "       [   0,    9,    0,   45,    0,    0,   45,   22,    6,    0],\n",
       "       [   0,    2,    0,    3,  224,    0,   21,    3,    1,    0],\n",
       "       [   0,    4,    0,    0,    0,   16,   17,    9,    0,    0],\n",
       "       [   0,  118,    0,   16,    5,    1, 2191,  332,   45,    0],\n",
       "       [   1,   46,    0,   12,    2,    0,  379,  768,   39,    0],\n",
       "       [   0,    7,    0,    1,    0,    0,   89,   47,  345,    0],\n",
       "       [   0,    5,    0,    1,    0,    0,    7,   12,    6,    0]])"
      ]
     },
     "execution_count": 22,
     "metadata": {},
     "output_type": "execute_result"
    }
   ],
   "source": [
    "print(f1_score(YTrainNum,Model.predict_classes(XTrain), average=\"micro\"))\n",
    "print(f1_score(YTestNum,Model.predict_classes(XTest), average=\"micro\"))\n",
    "confusion_matrix(YTestNum,Model.predict_classes(XTest))"
   ]
  },
  {
   "cell_type": "markdown",
   "metadata": {},
   "source": [
    "# Word Embedding Neural Network"
   ]
  },
  {
   "cell_type": "code",
   "execution_count": 23,
   "metadata": {
    "ExecuteTime": {
     "end_time": "2019-07-02T08:36:41.756279Z",
     "start_time": "2019-07-02T08:36:41.747591Z"
    }
   },
   "outputs": [],
   "source": [
    "XTrain, XTest, YTrain, YTest = train_test_split(UniqueData[\"LyricsClean\"], UniqueData['Genre1'])"
   ]
  },
  {
   "cell_type": "code",
   "execution_count": 24,
   "metadata": {
    "ExecuteTime": {
     "end_time": "2019-07-02T08:36:41.768065Z",
     "start_time": "2019-07-02T08:36:41.757629Z"
    }
   },
   "outputs": [],
   "source": [
    "Encoder = LabelEncoder()\n",
    "Encoder.fit(YTrain)\n",
    "YTrainNum = Encoder.transform(YTrain)\n",
    "YTrainDummy = np_utils.to_categorical(YTrainNum)\n",
    "YTestNum = Encoder.transform(YTest)\n",
    "YTestDummy = np_utils.to_categorical(YTestNum)"
   ]
  },
  {
   "cell_type": "code",
   "execution_count": 25,
   "metadata": {
    "ExecuteTime": {
     "end_time": "2019-07-02T08:36:47.292084Z",
     "start_time": "2019-07-02T08:36:41.771746Z"
    }
   },
   "outputs": [],
   "source": [
    "TokenModel = Tokenizer(num_words=5000)\n",
    "TokenModel.fit_on_texts(XTrain.tolist())\n",
    "XTrain = TokenModel.texts_to_sequences(XTrain.tolist())\n",
    "#XTrain = TokenModel.texts_to_matrix(XTrain, mode='tfidf')\n",
    "XTest = TokenModel.texts_to_sequences(XTest.tolist())\n",
    "#XTest = TokenModel.texts_to_matrix(XTest, mode='tfidf')"
   ]
  },
  {
   "cell_type": "code",
   "execution_count": 26,
   "metadata": {
    "ExecuteTime": {
     "end_time": "2019-07-02T08:36:47.810871Z",
     "start_time": "2019-07-02T08:36:47.295302Z"
    }
   },
   "outputs": [],
   "source": [
    "XTrain = pad_sequences(XTrain, padding='post', maxlen=500)\n",
    "XTest = pad_sequences(XTest, padding='post', maxlen=500)"
   ]
  },
  {
   "cell_type": "code",
   "execution_count": 27,
   "metadata": {
    "ExecuteTime": {
     "end_time": "2019-07-02T08:36:47.892212Z",
     "start_time": "2019-07-02T08:36:47.812619Z"
    }
   },
   "outputs": [
    {
     "name": "stdout",
     "output_type": "stream",
     "text": [
      "_________________________________________________________________\n",
      "Layer (type)                 Output Shape              Param #   \n",
      "=================================================================\n",
      "embedding_1 (Embedding)      (None, 500, 200)          1000000   \n",
      "_________________________________________________________________\n",
      "global_max_pooling1d_1 (Glob (None, 200)               0         \n",
      "_________________________________________________________________\n",
      "dense_4 (Dense)              (None, 50)                10050     \n",
      "_________________________________________________________________\n",
      "dense_5 (Dense)              (None, 10)                510       \n",
      "=================================================================\n",
      "Total params: 1,010,560\n",
      "Trainable params: 1,010,560\n",
      "Non-trainable params: 0\n",
      "_________________________________________________________________\n"
     ]
    }
   ],
   "source": [
    "InputDim = XTrain.shape[1]\n",
    "Model = Sequential()\n",
    "Model.add(layers.Embedding(input_dim=5000,\n",
    "                           output_dim=200,\n",
    "                           input_length=500))\n",
    "Model.add(layers.GlobalMaxPooling1D())\n",
    "#Model.add(layers.Flatten())\n",
    "Model.add(layers.Dense(50, activation='relu'))\n",
    "#Model.add(layers.SpatialDropout1D(0.2))\n",
    "#Model.add(layers.GRU(units=32, dropout=0.2, recurrent_dropout=0.2))\n",
    "#Model.add(layers.LSTM(100, dropout=0.2, recurrent_dropout=0.2))\n",
    "#Model.add(layers.Dense(40, activation='relu'))\n",
    "#Model.add(layers.Dropout(rate = 0.3))\n",
    "Model.add(layers.Dense(10, activation='softmax'))\n",
    "\n",
    "Model.compile(loss='categorical_crossentropy', \n",
    "              optimizer=\"adam\",\n",
    "              metrics=[\"acc\"])\n",
    "Model.summary()"
   ]
  },
  {
   "cell_type": "code",
   "execution_count": 28,
   "metadata": {
    "ExecuteTime": {
     "end_time": "2019-07-02T08:43:05.795368Z",
     "start_time": "2019-07-02T08:36:47.893809Z"
    }
   },
   "outputs": [
    {
     "name": "stdout",
     "output_type": "stream",
     "text": [
      "WARNING:tensorflow:From /home/ubuntu/anaconda3/lib/python3.7/site-packages/tensorflow/python/ops/math_grad.py:102: div (from tensorflow.python.ops.math_ops) is deprecated and will be removed in a future version.\n",
      "Instructions for updating:\n",
      "Deprecated in favor of operator or tf.math.divide.\n",
      "Train on 16793 samples, validate on 5598 samples\n",
      "Epoch 1/25\n",
      "16793/16793 [==============================] - 16s 932us/step - loss: 1.2909 - acc: 0.5582 - val_loss: 1.1901 - val_acc: 0.6083\n",
      "Epoch 2/25\n",
      "16793/16793 [==============================] - 15s 901us/step - loss: 1.0978 - acc: 0.6319 - val_loss: 1.0858 - val_acc: 0.6445\n",
      "Epoch 3/25\n",
      "16793/16793 [==============================] - 15s 887us/step - loss: 0.9577 - acc: 0.6858 - val_loss: 1.0524 - val_acc: 0.6542\n",
      "Epoch 4/25\n",
      "16793/16793 [==============================] - 15s 896us/step - loss: 0.8255 - acc: 0.7364 - val_loss: 1.0444 - val_acc: 0.6729\n",
      "Epoch 5/25\n",
      "16793/16793 [==============================] - 15s 895us/step - loss: 0.7118 - acc: 0.7726 - val_loss: 1.0589 - val_acc: 0.6735\n",
      "Epoch 6/25\n",
      "16793/16793 [==============================] - 15s 895us/step - loss: 0.6156 - acc: 0.8059 - val_loss: 1.0676 - val_acc: 0.6793\n",
      "Epoch 7/25\n",
      "16793/16793 [==============================] - 15s 894us/step - loss: 0.5339 - acc: 0.8289 - val_loss: 1.1080 - val_acc: 0.6829\n",
      "Epoch 8/25\n",
      "16793/16793 [==============================] - 15s 896us/step - loss: 0.4697 - acc: 0.8502 - val_loss: 1.1354 - val_acc: 0.6754\n",
      "Epoch 9/25\n",
      "16793/16793 [==============================] - 15s 899us/step - loss: 0.4191 - acc: 0.8651 - val_loss: 1.1379 - val_acc: 0.6913\n",
      "Epoch 10/25\n",
      "16793/16793 [==============================] - 15s 898us/step - loss: 0.3768 - acc: 0.8756 - val_loss: 1.1697 - val_acc: 0.6986\n",
      "Epoch 11/25\n",
      "16793/16793 [==============================] - 15s 894us/step - loss: 0.3483 - acc: 0.8837 - val_loss: 1.2039 - val_acc: 0.7049\n",
      "Epoch 12/25\n",
      "16793/16793 [==============================] - 15s 890us/step - loss: 0.3282 - acc: 0.8882 - val_loss: 1.2014 - val_acc: 0.7044\n",
      "Epoch 13/25\n",
      "16793/16793 [==============================] - 15s 902us/step - loss: 0.3114 - acc: 0.8923 - val_loss: 1.1906 - val_acc: 0.7019\n",
      "Epoch 14/25\n",
      "16793/16793 [==============================] - 15s 896us/step - loss: 0.2971 - acc: 0.8960 - val_loss: 1.1907 - val_acc: 0.7094\n",
      "Epoch 15/25\n",
      "16793/16793 [==============================] - 15s 897us/step - loss: 0.2860 - acc: 0.8973 - val_loss: 1.2194 - val_acc: 0.7065\n",
      "Epoch 16/25\n",
      "16793/16793 [==============================] - 15s 899us/step - loss: 0.2785 - acc: 0.9014 - val_loss: 1.1850 - val_acc: 0.7047\n",
      "Epoch 17/25\n",
      "16793/16793 [==============================] - 15s 902us/step - loss: 0.2711 - acc: 0.9000 - val_loss: 1.1846 - val_acc: 0.6994\n",
      "Epoch 18/25\n",
      "16793/16793 [==============================] - 15s 901us/step - loss: 0.2655 - acc: 0.9016 - val_loss: 1.2538 - val_acc: 0.7156\n",
      "Epoch 19/25\n",
      "16793/16793 [==============================] - 15s 901us/step - loss: 0.2639 - acc: 0.9019 - val_loss: 1.1955 - val_acc: 0.7081\n",
      "Epoch 20/25\n",
      "16793/16793 [==============================] - 15s 897us/step - loss: 0.2543 - acc: 0.9051 - val_loss: 1.2529 - val_acc: 0.7063\n",
      "Epoch 21/25\n",
      "16793/16793 [==============================] - 15s 899us/step - loss: 0.2523 - acc: 0.9029 - val_loss: 1.2003 - val_acc: 0.7013\n",
      "Epoch 22/25\n",
      "16793/16793 [==============================] - 15s 909us/step - loss: 0.2488 - acc: 0.9023 - val_loss: 1.1977 - val_acc: 0.7008\n",
      "Epoch 23/25\n",
      "16793/16793 [==============================] - 15s 897us/step - loss: 0.2472 - acc: 0.9033 - val_loss: 1.2238 - val_acc: 0.7078\n",
      "Epoch 24/25\n",
      "16793/16793 [==============================] - 15s 891us/step - loss: 0.2429 - acc: 0.9038 - val_loss: 1.2085 - val_acc: 0.7015\n",
      "Epoch 25/25\n",
      "16793/16793 [==============================] - 15s 895us/step - loss: 0.2396 - acc: 0.9061 - val_loss: 1.1817 - val_acc: 0.7095\n"
     ]
    },
    {
     "data": {
      "text/plain": [
       "<keras.callbacks.History at 0x7f7c18cada90>"
      ]
     },
     "execution_count": 28,
     "metadata": {},
     "output_type": "execute_result"
    }
   ],
   "source": [
    "Model.fit(XTrain, \n",
    "          YTrainDummy,\n",
    "          epochs=25,\n",
    "          validation_data=(XTest, YTestDummy),\n",
    "          batch_size=15,\n",
    "          verbose=1)"
   ]
  },
  {
   "cell_type": "code",
   "execution_count": 29,
   "metadata": {
    "ExecuteTime": {
     "end_time": "2019-07-02T08:43:07.223569Z",
     "start_time": "2019-07-02T08:43:05.796918Z"
    }
   },
   "outputs": [
    {
     "name": "stdout",
     "output_type": "stream",
     "text": [
      "0.9228249866015602\n",
      "0.7095391211146839\n",
      "😊\n"
     ]
    },
    {
     "data": {
      "text/plain": [
       "array([[  77,    2,    0,    0,    0,    0,   16,   12,    0,    0],\n",
       "       [   6,  259,    1,    6,    1,    0,  196,   80,    4,    4],\n",
       "       [   1,    1,   14,    0,    0,    0,   15,   10,    0,    0],\n",
       "       [   0,    7,    0,   45,    0,    0,   39,   17,    0,    1],\n",
       "       [   0,    3,    0,    0,  222,    1,   12,   13,    1,    0],\n",
       "       [   0,    2,    0,    0,    0,   28,   11,   11,    2,    0],\n",
       "       [   7,  134,    0,   11,    9,    7, 2183,  320,   31,   23],\n",
       "       [   2,   46,    2,   11,    3,    3,  356,  788,   36,    5],\n",
       "       [   1,    4,    0,    3,    1,    0,   71,   48,  333,    4],\n",
       "       [   0,    1,    0,    0,    0,    0,    8,    3,    1,   23]])"
      ]
     },
     "execution_count": 29,
     "metadata": {},
     "output_type": "execute_result"
    }
   ],
   "source": [
    "print(f1_score(YTrainNum,Model.predict_classes(XTrain), average=\"micro\"))\n",
    "print(f1_score(YTestNum,Model.predict_classes(XTest), average=\"micro\"))\n",
    "print(\"😊\")\n",
    "confusion_matrix(YTestNum,Model.predict_classes(XTest))"
   ]
  },
  {
   "cell_type": "markdown",
   "metadata": {},
   "source": [
    "# LTSTM Neural Network"
   ]
  },
  {
   "cell_type": "code",
   "execution_count": 30,
   "metadata": {
    "ExecuteTime": {
     "end_time": "2019-07-02T08:58:53.638929Z",
     "start_time": "2019-07-02T08:58:53.630669Z"
    }
   },
   "outputs": [],
   "source": [
    "XTrain, XTest, YTrain, YTest = train_test_split(UniqueData[\"LyricsClean\"], UniqueData['Genre1'])"
   ]
  },
  {
   "cell_type": "code",
   "execution_count": 31,
   "metadata": {
    "ExecuteTime": {
     "end_time": "2019-07-02T08:58:55.005758Z",
     "start_time": "2019-07-02T08:58:54.997329Z"
    }
   },
   "outputs": [],
   "source": [
    "Encoder = LabelEncoder()\n",
    "Encoder.fit(YTrain)\n",
    "YTrainNum = Encoder.transform(YTrain)\n",
    "YTrainDummy = np_utils.to_categorical(YTrainNum)\n",
    "YTestNum = Encoder.transform(YTest)\n",
    "YTestDummy = np_utils.to_categorical(YTestNum)"
   ]
  },
  {
   "cell_type": "code",
   "execution_count": 32,
   "metadata": {
    "ExecuteTime": {
     "end_time": "2019-07-02T08:59:02.916848Z",
     "start_time": "2019-07-02T08:58:57.485527Z"
    }
   },
   "outputs": [],
   "source": [
    "TokenModel = Tokenizer(num_words=5000)\n",
    "TokenModel.fit_on_texts(XTrain.tolist())\n",
    "XTrain = TokenModel.texts_to_sequences(XTrain.tolist())\n",
    "#XTrain = TokenModel.texts_to_matrix(XTrain, mode='tfidf')\n",
    "XTest = TokenModel.texts_to_sequences(XTest.tolist())\n",
    "#XTest = TokenModel.texts_to_matrix(XTest, mode='tfidf')"
   ]
  },
  {
   "cell_type": "code",
   "execution_count": 33,
   "metadata": {
    "ExecuteTime": {
     "end_time": "2019-07-02T08:59:13.599162Z",
     "start_time": "2019-07-02T08:59:13.081223Z"
    }
   },
   "outputs": [],
   "source": [
    "XTrain = pad_sequences(XTrain, padding='post', maxlen=500)\n",
    "XTest = pad_sequences(XTest, padding='post', maxlen=500)"
   ]
  },
  {
   "cell_type": "code",
   "execution_count": 42,
   "metadata": {
    "ExecuteTime": {
     "end_time": "2019-07-02T11:16:37.531129Z",
     "start_time": "2019-07-02T11:16:37.147569Z"
    }
   },
   "outputs": [
    {
     "name": "stdout",
     "output_type": "stream",
     "text": [
      "_________________________________________________________________\n",
      "Layer (type)                 Output Shape              Param #   \n",
      "=================================================================\n",
      "embedding_6 (Embedding)      (None, 500, 100)          500000    \n",
      "_________________________________________________________________\n",
      "lstm_5 (LSTM)                (None, 100)               80400     \n",
      "_________________________________________________________________\n",
      "dense_9 (Dense)              (None, 10)                1010      \n",
      "=================================================================\n",
      "Total params: 581,410\n",
      "Trainable params: 581,410\n",
      "Non-trainable params: 0\n",
      "_________________________________________________________________\n"
     ]
    }
   ],
   "source": [
    "InputDim = XTrain.shape[1]\n",
    "Model = Sequential()\n",
    "Model.add(layers.Embedding(input_dim=5000,\n",
    "                           output_dim=100,\n",
    "                           input_length=500))\n",
    "#Model.add(layers.GlobalMaxPooling1D())\n",
    "#Model.add(layers.Flatten())\n",
    "#Model.add(layers.Dense(50, activation='relu'))\n",
    "#Model.add(layers.SpatialDropout1D(0.2))\n",
    "#Model.add(layers.GRU(units=32, dropout=0.2, recurrent_dropout=0.2))\n",
    "Model.add(layers.LSTM(100, dropout=0.2, recurrent_dropout=0.2))\n",
    "#Model.add(layers.Dense(40, activation='relu'))\n",
    "#Model.add(layers.Dropout(rate = 0.3))\n",
    "Model.add(layers.Dense(10, activation='softmax'))\n",
    "\n",
    "Model.compile(loss='categorical_crossentropy', \n",
    "              optimizer=\"adam\",\n",
    "              metrics=[\"acc\"])\n",
    "Model.summary()"
   ]
  },
  {
   "cell_type": "code",
   "execution_count": 43,
   "metadata": {
    "ExecuteTime": {
     "end_time": "2019-07-02T11:30:15.542251Z",
     "start_time": "2019-07-02T11:16:41.163396Z"
    }
   },
   "outputs": [
    {
     "name": "stdout",
     "output_type": "stream",
     "text": [
      "Train on 16793 samples, validate on 5598 samples\n",
      "Epoch 1/15\n",
      "16793/16793 [==============================] - 465s 28ms/step - loss: 1.4750 - acc: 0.5104 - val_loss: 1.4624 - val_acc: 0.5093\n",
      "Epoch 2/15\n",
      "13290/16793 [======================>.......] - ETA: 1:31 - loss: 1.4301 - acc: 0.5185"
     ]
    },
    {
     "ename": "KeyboardInterrupt",
     "evalue": "",
     "output_type": "error",
     "traceback": [
      "\u001b[0;31m---------------------------------------------------------------------------\u001b[0m",
      "\u001b[0;31mKeyboardInterrupt\u001b[0m                         Traceback (most recent call last)",
      "\u001b[0;32m<ipython-input-43-e1b441a45399>\u001b[0m in \u001b[0;36m<module>\u001b[0;34m\u001b[0m\n\u001b[1;32m      4\u001b[0m           \u001b[0mvalidation_data\u001b[0m\u001b[0;34m=\u001b[0m\u001b[0;34m(\u001b[0m\u001b[0mXTest\u001b[0m\u001b[0;34m,\u001b[0m \u001b[0mYTestDummy\u001b[0m\u001b[0;34m)\u001b[0m\u001b[0;34m,\u001b[0m\u001b[0;34m\u001b[0m\u001b[0;34m\u001b[0m\u001b[0m\n\u001b[1;32m      5\u001b[0m           \u001b[0mbatch_size\u001b[0m\u001b[0;34m=\u001b[0m\u001b[0;36m15\u001b[0m\u001b[0;34m,\u001b[0m\u001b[0;34m\u001b[0m\u001b[0;34m\u001b[0m\u001b[0m\n\u001b[0;32m----> 6\u001b[0;31m           verbose=1)\n\u001b[0m",
      "\u001b[0;32m~/anaconda3/lib/python3.7/site-packages/keras/engine/training.py\u001b[0m in \u001b[0;36mfit\u001b[0;34m(self, x, y, batch_size, epochs, verbose, callbacks, validation_split, validation_data, shuffle, class_weight, sample_weight, initial_epoch, steps_per_epoch, validation_steps, **kwargs)\u001b[0m\n\u001b[1;32m   1037\u001b[0m                                         \u001b[0minitial_epoch\u001b[0m\u001b[0;34m=\u001b[0m\u001b[0minitial_epoch\u001b[0m\u001b[0;34m,\u001b[0m\u001b[0;34m\u001b[0m\u001b[0;34m\u001b[0m\u001b[0m\n\u001b[1;32m   1038\u001b[0m                                         \u001b[0msteps_per_epoch\u001b[0m\u001b[0;34m=\u001b[0m\u001b[0msteps_per_epoch\u001b[0m\u001b[0;34m,\u001b[0m\u001b[0;34m\u001b[0m\u001b[0;34m\u001b[0m\u001b[0m\n\u001b[0;32m-> 1039\u001b[0;31m                                         validation_steps=validation_steps)\n\u001b[0m\u001b[1;32m   1040\u001b[0m \u001b[0;34m\u001b[0m\u001b[0m\n\u001b[1;32m   1041\u001b[0m     def evaluate(self, x=None, y=None,\n",
      "\u001b[0;32m~/anaconda3/lib/python3.7/site-packages/keras/engine/training_arrays.py\u001b[0m in \u001b[0;36mfit_loop\u001b[0;34m(model, f, ins, out_labels, batch_size, epochs, verbose, callbacks, val_f, val_ins, shuffle, callback_metrics, initial_epoch, steps_per_epoch, validation_steps)\u001b[0m\n\u001b[1;32m    197\u001b[0m                     \u001b[0mins_batch\u001b[0m\u001b[0;34m[\u001b[0m\u001b[0mi\u001b[0m\u001b[0;34m]\u001b[0m \u001b[0;34m=\u001b[0m \u001b[0mins_batch\u001b[0m\u001b[0;34m[\u001b[0m\u001b[0mi\u001b[0m\u001b[0;34m]\u001b[0m\u001b[0;34m.\u001b[0m\u001b[0mtoarray\u001b[0m\u001b[0;34m(\u001b[0m\u001b[0;34m)\u001b[0m\u001b[0;34m\u001b[0m\u001b[0;34m\u001b[0m\u001b[0m\n\u001b[1;32m    198\u001b[0m \u001b[0;34m\u001b[0m\u001b[0m\n\u001b[0;32m--> 199\u001b[0;31m                 \u001b[0mouts\u001b[0m \u001b[0;34m=\u001b[0m \u001b[0mf\u001b[0m\u001b[0;34m(\u001b[0m\u001b[0mins_batch\u001b[0m\u001b[0;34m)\u001b[0m\u001b[0;34m\u001b[0m\u001b[0;34m\u001b[0m\u001b[0m\n\u001b[0m\u001b[1;32m    200\u001b[0m                 \u001b[0mouts\u001b[0m \u001b[0;34m=\u001b[0m \u001b[0mto_list\u001b[0m\u001b[0;34m(\u001b[0m\u001b[0mouts\u001b[0m\u001b[0;34m)\u001b[0m\u001b[0;34m\u001b[0m\u001b[0;34m\u001b[0m\u001b[0m\n\u001b[1;32m    201\u001b[0m                 \u001b[0;32mfor\u001b[0m \u001b[0ml\u001b[0m\u001b[0;34m,\u001b[0m \u001b[0mo\u001b[0m \u001b[0;32min\u001b[0m \u001b[0mzip\u001b[0m\u001b[0;34m(\u001b[0m\u001b[0mout_labels\u001b[0m\u001b[0;34m,\u001b[0m \u001b[0mouts\u001b[0m\u001b[0;34m)\u001b[0m\u001b[0;34m:\u001b[0m\u001b[0;34m\u001b[0m\u001b[0;34m\u001b[0m\u001b[0m\n",
      "\u001b[0;32m~/anaconda3/lib/python3.7/site-packages/keras/backend/tensorflow_backend.py\u001b[0m in \u001b[0;36m__call__\u001b[0;34m(self, inputs)\u001b[0m\n\u001b[1;32m   2713\u001b[0m                 \u001b[0;32mreturn\u001b[0m \u001b[0mself\u001b[0m\u001b[0;34m.\u001b[0m\u001b[0m_legacy_call\u001b[0m\u001b[0;34m(\u001b[0m\u001b[0minputs\u001b[0m\u001b[0;34m)\u001b[0m\u001b[0;34m\u001b[0m\u001b[0;34m\u001b[0m\u001b[0m\n\u001b[1;32m   2714\u001b[0m \u001b[0;34m\u001b[0m\u001b[0m\n\u001b[0;32m-> 2715\u001b[0;31m             \u001b[0;32mreturn\u001b[0m \u001b[0mself\u001b[0m\u001b[0;34m.\u001b[0m\u001b[0m_call\u001b[0m\u001b[0;34m(\u001b[0m\u001b[0minputs\u001b[0m\u001b[0;34m)\u001b[0m\u001b[0;34m\u001b[0m\u001b[0;34m\u001b[0m\u001b[0m\n\u001b[0m\u001b[1;32m   2716\u001b[0m         \u001b[0;32melse\u001b[0m\u001b[0;34m:\u001b[0m\u001b[0;34m\u001b[0m\u001b[0;34m\u001b[0m\u001b[0m\n\u001b[1;32m   2717\u001b[0m             \u001b[0;32mif\u001b[0m \u001b[0mpy_any\u001b[0m\u001b[0;34m(\u001b[0m\u001b[0mis_tensor\u001b[0m\u001b[0;34m(\u001b[0m\u001b[0mx\u001b[0m\u001b[0;34m)\u001b[0m \u001b[0;32mfor\u001b[0m \u001b[0mx\u001b[0m \u001b[0;32min\u001b[0m \u001b[0minputs\u001b[0m\u001b[0;34m)\u001b[0m\u001b[0;34m:\u001b[0m\u001b[0;34m\u001b[0m\u001b[0;34m\u001b[0m\u001b[0m\n",
      "\u001b[0;32m~/anaconda3/lib/python3.7/site-packages/keras/backend/tensorflow_backend.py\u001b[0m in \u001b[0;36m_call\u001b[0;34m(self, inputs)\u001b[0m\n\u001b[1;32m   2673\u001b[0m             \u001b[0mfetched\u001b[0m \u001b[0;34m=\u001b[0m \u001b[0mself\u001b[0m\u001b[0;34m.\u001b[0m\u001b[0m_callable_fn\u001b[0m\u001b[0;34m(\u001b[0m\u001b[0;34m*\u001b[0m\u001b[0marray_vals\u001b[0m\u001b[0;34m,\u001b[0m \u001b[0mrun_metadata\u001b[0m\u001b[0;34m=\u001b[0m\u001b[0mself\u001b[0m\u001b[0;34m.\u001b[0m\u001b[0mrun_metadata\u001b[0m\u001b[0;34m)\u001b[0m\u001b[0;34m\u001b[0m\u001b[0;34m\u001b[0m\u001b[0m\n\u001b[1;32m   2674\u001b[0m         \u001b[0;32melse\u001b[0m\u001b[0;34m:\u001b[0m\u001b[0;34m\u001b[0m\u001b[0;34m\u001b[0m\u001b[0m\n\u001b[0;32m-> 2675\u001b[0;31m             \u001b[0mfetched\u001b[0m \u001b[0;34m=\u001b[0m \u001b[0mself\u001b[0m\u001b[0;34m.\u001b[0m\u001b[0m_callable_fn\u001b[0m\u001b[0;34m(\u001b[0m\u001b[0;34m*\u001b[0m\u001b[0marray_vals\u001b[0m\u001b[0;34m)\u001b[0m\u001b[0;34m\u001b[0m\u001b[0;34m\u001b[0m\u001b[0m\n\u001b[0m\u001b[1;32m   2676\u001b[0m         \u001b[0;32mreturn\u001b[0m \u001b[0mfetched\u001b[0m\u001b[0;34m[\u001b[0m\u001b[0;34m:\u001b[0m\u001b[0mlen\u001b[0m\u001b[0;34m(\u001b[0m\u001b[0mself\u001b[0m\u001b[0;34m.\u001b[0m\u001b[0moutputs\u001b[0m\u001b[0;34m)\u001b[0m\u001b[0;34m]\u001b[0m\u001b[0;34m\u001b[0m\u001b[0;34m\u001b[0m\u001b[0m\n\u001b[1;32m   2677\u001b[0m \u001b[0;34m\u001b[0m\u001b[0m\n",
      "\u001b[0;32m~/anaconda3/lib/python3.7/site-packages/tensorflow/python/client/session.py\u001b[0m in \u001b[0;36m__call__\u001b[0;34m(self, *args, **kwargs)\u001b[0m\n\u001b[1;32m   1437\u001b[0m           ret = tf_session.TF_SessionRunCallable(\n\u001b[1;32m   1438\u001b[0m               \u001b[0mself\u001b[0m\u001b[0;34m.\u001b[0m\u001b[0m_session\u001b[0m\u001b[0;34m.\u001b[0m\u001b[0m_session\u001b[0m\u001b[0;34m,\u001b[0m \u001b[0mself\u001b[0m\u001b[0;34m.\u001b[0m\u001b[0m_handle\u001b[0m\u001b[0;34m,\u001b[0m \u001b[0margs\u001b[0m\u001b[0;34m,\u001b[0m \u001b[0mstatus\u001b[0m\u001b[0;34m,\u001b[0m\u001b[0;34m\u001b[0m\u001b[0;34m\u001b[0m\u001b[0m\n\u001b[0;32m-> 1439\u001b[0;31m               run_metadata_ptr)\n\u001b[0m\u001b[1;32m   1440\u001b[0m         \u001b[0;32mif\u001b[0m \u001b[0mrun_metadata\u001b[0m\u001b[0;34m:\u001b[0m\u001b[0;34m\u001b[0m\u001b[0;34m\u001b[0m\u001b[0m\n\u001b[1;32m   1441\u001b[0m           \u001b[0mproto_data\u001b[0m \u001b[0;34m=\u001b[0m \u001b[0mtf_session\u001b[0m\u001b[0;34m.\u001b[0m\u001b[0mTF_GetBuffer\u001b[0m\u001b[0;34m(\u001b[0m\u001b[0mrun_metadata_ptr\u001b[0m\u001b[0;34m)\u001b[0m\u001b[0;34m\u001b[0m\u001b[0;34m\u001b[0m\u001b[0m\n",
      "\u001b[0;31mKeyboardInterrupt\u001b[0m: "
     ]
    }
   ],
   "source": [
    "Model.fit(XTrain, \n",
    "          YTrainDummy,\n",
    "          epochs=15,\n",
    "          validation_data=(XTest, YTestDummy),\n",
    "          batch_size=15,\n",
    "          verbose=1)"
   ]
  },
  {
   "cell_type": "code",
   "execution_count": null,
   "metadata": {
    "ExecuteTime": {
     "start_time": "2019-07-02T10:14:13.646Z"
    }
   },
   "outputs": [],
   "source": [
    "print(f1_score(YTrainNum,Model.predict_classes(XTrain), average=\"micro\"))\n",
    "print(f1_score(YTestNum,Model.predict_classes(XTest), average=\"micro\"))\n",
    "print(\"😊\")\n",
    "confusion_matrix(YTestNum,Model.predict_classes(XTest))"
   ]
  }
 ],
 "metadata": {
  "kernelspec": {
   "display_name": "Python 3",
   "language": "python",
   "name": "python3"
  },
  "language_info": {
   "codemirror_mode": {
    "name": "ipython",
    "version": 3
   },
   "file_extension": ".py",
   "mimetype": "text/x-python",
   "name": "python",
   "nbconvert_exporter": "python",
   "pygments_lexer": "ipython3",
   "version": "3.7.3"
  },
  "varInspector": {
   "cols": {
    "lenName": 16,
    "lenType": 16,
    "lenVar": 40
   },
   "kernels_config": {
    "python": {
     "delete_cmd_postfix": "",
     "delete_cmd_prefix": "del ",
     "library": "var_list.py",
     "varRefreshCmd": "print(var_dic_list())"
    },
    "r": {
     "delete_cmd_postfix": ") ",
     "delete_cmd_prefix": "rm(",
     "library": "var_list.r",
     "varRefreshCmd": "cat(var_dic_list()) "
    }
   },
   "types_to_exclude": [
    "module",
    "function",
    "builtin_function_or_method",
    "instance",
    "_Feature"
   ],
   "window_display": false
  }
 },
 "nbformat": 4,
 "nbformat_minor": 2
}
