{
 "cells": [
  {
   "cell_type": "code",
   "execution_count": null,
   "metadata": {
    "ExecuteTime": {
     "end_time": "2019-06-22T18:09:32.838109Z",
     "start_time": "2019-06-22T18:09:25.093Z"
    }
   },
   "outputs": [],
   "source": [
    "devtools::install_github(\"lchiffon/wordcloud2\", force = TRUE)"
   ]
  },
  {
   "cell_type": "code",
   "execution_count": null,
   "metadata": {
    "ExecuteTime": {
     "end_time": "2019-06-22T15:46:15.851432Z",
     "start_time": "2019-06-22T15:46:01.469Z"
    }
   },
   "outputs": [],
   "source": [
    "install.packages(\"devtools\")\n",
    "install.packages(\"tm\")\n",
    "install.packages(\"SnowballC\")\n",
    "install.packages(\"tidyverse\")"
   ]
  },
  {
   "cell_type": "code",
   "execution_count": 1,
   "metadata": {
    "ExecuteTime": {
     "end_time": "2019-06-22T18:12:48.380027Z",
     "start_time": "2019-06-22T18:12:46.767Z"
    }
   },
   "outputs": [
    {
     "name": "stderr",
     "output_type": "stream",
     "text": [
      "Loading required package: NLP\n"
     ]
    }
   ],
   "source": [
    "library(wordcloud2)\n",
    "library(tm)\n",
    "library(SnowballC)\n",
    "#library(tidyverse)"
   ]
  },
  {
   "cell_type": "code",
   "execution_count": 10,
   "metadata": {
    "ExecuteTime": {
     "end_time": "2019-06-22T18:24:54.892749Z",
     "start_time": "2019-06-22T18:24:30.365Z"
    },
    "scrolled": false
   },
   "outputs": [
    {
     "data": {
      "text/plain": [
       "\n",
       "            Blues  Country  Electro     Folk   HipHop      Pop      R&B \n",
       "   56218    18529    31828     4767     3611    31877    54563    42058 \n",
       "  Reggae Religous     Rock \n",
       "    2326      905    59103 "
      ]
     },
     "metadata": {},
     "output_type": "display_data"
    },
    {
     "name": "stderr",
     "output_type": "stream",
     "text": [
      "Warning message in tm_map.SimpleCorpus(Document, content_transformer(tolower)):\n",
      "“transformation drops documents”Warning message in tm_map.SimpleCorpus(Document, removeNumbers):\n",
      "“transformation drops documents”Warning message in tm_map.SimpleCorpus(Document, removeWords, stopwords(\"english\")):\n",
      "“transformation drops documents”Warning message in tm_map.SimpleCorpus(Document, removeWords, c(\"know\", \"just\", :\n",
      "“transformation drops documents”Warning message in tm_map.SimpleCorpus(Document, removePunctuation):\n",
      "“transformation drops documents”Warning message in tm_map.SimpleCorpus(Document, stripWhitespace):\n",
      "“transformation drops documents”"
     ]
    },
    {
     "data": {
      "text/html": [
       "<table>\n",
       "<caption>A data.frame: 10 × 2</caption>\n",
       "<thead>\n",
       "\t<tr><th></th><th scope=col>Word</th><th scope=col>Freq</th></tr>\n",
       "\t<tr><th></th><th scope=col>&lt;fct&gt;</th><th scope=col>&lt;dbl&gt;</th></tr>\n",
       "</thead>\n",
       "<tbody>\n",
       "\t<tr><th scope=row>love</th><td>love </td><td>44564</td></tr>\n",
       "\t<tr><th scope=row>like</th><td>like </td><td>26461</td></tr>\n",
       "\t<tr><th scope=row>baby</th><td>baby </td><td>19455</td></tr>\n",
       "\t<tr><th scope=row>now</th><td>now  </td><td>17484</td></tr>\n",
       "\t<tr><th scope=row>one</th><td>one  </td><td>16999</td></tr>\n",
       "\t<tr><th scope=row>time</th><td>time </td><td>16081</td></tr>\n",
       "\t<tr><th scope=row>never</th><td>never</td><td>15174</td></tr>\n",
       "\t<tr><th scope=row>way</th><td>way  </td><td>14900</td></tr>\n",
       "\t<tr><th scope=row>yeah</th><td>yeah </td><td>14754</td></tr>\n",
       "\t<tr><th scope=row>gonna</th><td>gonna</td><td>14465</td></tr>\n",
       "</tbody>\n",
       "</table>\n"
      ],
      "text/latex": [
       "A data.frame: 10 × 2\n",
       "\\begin{tabular}{r|ll}\n",
       "  & Word & Freq\\\\\n",
       "  & <fct> & <dbl>\\\\\n",
       "\\hline\n",
       "\tlove & love  & 44564\\\\\n",
       "\tlike & like  & 26461\\\\\n",
       "\tbaby & baby  & 19455\\\\\n",
       "\tnow & now   & 17484\\\\\n",
       "\tone & one   & 16999\\\\\n",
       "\ttime & time  & 16081\\\\\n",
       "\tnever & never & 15174\\\\\n",
       "\tway & way   & 14900\\\\\n",
       "\tyeah & yeah  & 14754\\\\\n",
       "\tgonna & gonna & 14465\\\\\n",
       "\\end{tabular}\n"
      ],
      "text/markdown": [
       "\n",
       "A data.frame: 10 × 2\n",
       "\n",
       "| <!--/--> | Word &lt;fct&gt; | Freq &lt;dbl&gt; |\n",
       "|---|---|---|\n",
       "| love | love  | 44564 |\n",
       "| like | like  | 26461 |\n",
       "| baby | baby  | 19455 |\n",
       "| now | now   | 17484 |\n",
       "| one | one   | 16999 |\n",
       "| time | time  | 16081 |\n",
       "| never | never | 15174 |\n",
       "| way | way   | 14900 |\n",
       "| yeah | yeah  | 14754 |\n",
       "| gonna | gonna | 14465 |\n",
       "\n"
      ],
      "text/plain": [
       "      Word  Freq \n",
       "love  love  44564\n",
       "like  like  26461\n",
       "baby  baby  19455\n",
       "now   now   17484\n",
       "one   one   16999\n",
       "time  time  16081\n",
       "never never 15174\n",
       "way   way   14900\n",
       "yeah  yeah  14754\n",
       "gonna gonna 14465"
      ]
     },
     "metadata": {},
     "output_type": "display_data"
    }
   ],
   "source": [
    "rm(list=ls())\n",
    "Data <- read.csv(\"CleanData.csv\")\n",
    "Data <- Data[2:ncol(Data)]\n",
    "table(Data$Genre2)\n",
    "\n",
    "Genre <- \"Country\"\n",
    "\n",
    "Document <- Corpus(VectorSource(Data$LyricsClean[Data$Genre2 == Genre]))\n",
    "\n",
    "Document <- tm_map(Document, content_transformer(tolower))\n",
    "Document <- tm_map(Document, removeNumbers)\n",
    "Document <- tm_map(Document, removeWords, stopwords(\"english\"))\n",
    "\n",
    "Document <- tm_map(Document, removeWords, c(\"know\", \"just\", \"can\", \"chorus\", \"verse\", \"get\", \"got\", \"will\", \"much\", \"well\", \"keep\", \"let\", \"see\", \"tell\", \"take\")) \n",
    "\n",
    "Document <- tm_map(Document, removePunctuation)\n",
    "Document <- tm_map(Document, stripWhitespace)\n",
    "\n",
    "# Document <- tm_map(Document, stemDocument)\n",
    "\n",
    "rm(Data)\n",
    "\n",
    "Document <- sort(rowSums(as.matrix(TermDocumentMatrix(Document))),decreasing=TRUE)\n",
    "Document <- data.frame(Word = names(Document), Freq = Document)\n",
    "head(Document, 10)\n",
    "\n",
    "#write.csv(Document,paste(Genre,\".csv\", sep = \"\"))"
   ]
  },
  {
   "cell_type": "code",
   "execution_count": null,
   "metadata": {},
   "outputs": [],
   "source": [
    "wordcloud2(Document, color = \"Brown\",  backgroundColor = \"White\", figPath = \"/Users/Harib/OneDrive/Pictures/Music/Country.png\")"
   ]
  }
 ],
 "metadata": {
  "kernelspec": {
   "display_name": "R",
   "language": "R",
   "name": "ir"
  },
  "language_info": {
   "codemirror_mode": "r",
   "file_extension": ".r",
   "mimetype": "text/x-r-source",
   "name": "R",
   "pygments_lexer": "r",
   "version": "3.6.0"
  }
 },
 "nbformat": 4,
 "nbformat_minor": 2
}
