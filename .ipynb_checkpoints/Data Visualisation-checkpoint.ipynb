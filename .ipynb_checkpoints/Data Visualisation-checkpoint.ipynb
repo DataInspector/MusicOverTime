{
 "cells": [
  {
   "cell_type": "code",
   "execution_count": null,
   "metadata": {
    "ExecuteTime": {
     "end_time": "2019-06-22T18:09:32.838109Z",
     "start_time": "2019-06-22T18:09:25.093Z"
    }
   },
   "outputs": [],
   "source": [
    "devtools::install_github(\"lchiffon/wordcloud2\", force = TRUE)"
   ]
  },
  {
   "cell_type": "code",
   "execution_count": null,
   "metadata": {
    "ExecuteTime": {
     "end_time": "2019-06-22T15:46:15.851432Z",
     "start_time": "2019-06-22T15:46:01.469Z"
    }
   },
   "outputs": [],
   "source": [
    "install.packages(\"devtools\")\n",
    "install.packages(\"tm\")\n",
    "install.packages(\"SnowballC\")\n",
    "install.packages(\"tidyverse\")"
   ]
  },
  {
   "cell_type": "code",
   "execution_count": 1,
   "metadata": {
    "ExecuteTime": {
     "end_time": "2019-06-22T18:12:48.380027Z",
     "start_time": "2019-06-22T18:12:46.767Z"
    }
   },
   "outputs": [
    {
     "name": "stderr",
     "output_type": "stream",
     "text": [
      "Loading required package: NLP\n"
     ]
    }
   ],
   "source": [
    "library(wordcloud2)\n",
    "library(tm)\n",
    "library(SnowballC)\n",
    "#library(tidyverse)"
   ]
  },
  {
   "cell_type": "code",
   "execution_count": null,
   "metadata": {
    "ExecuteTime": {
     "start_time": "2019-06-22T18:24:30.365Z"
    },
    "scrolled": false
   },
   "outputs": [
    {
     "data": {
      "text/plain": [
       "\n",
       "            Blues  Country  Electro     Folk   HipHop      Pop      R&B \n",
       "   56218    18529    31828     4767     3611    31877    54563    42058 \n",
       "  Reggae Religous     Rock \n",
       "    2326      905    59103 "
      ]
     },
     "metadata": {},
     "output_type": "display_data"
    },
    {
     "name": "stderr",
     "output_type": "stream",
     "text": [
      "Warning message in tm_map.SimpleCorpus(Document, content_transformer(tolower)):\n",
      "“transformation drops documents”Warning message in tm_map.SimpleCorpus(Document, removeNumbers):\n",
      "“transformation drops documents”"
     ]
    }
   ],
   "source": [
    "rm(list=ls())\n",
    "Data <- read.csv(\"CleanData.csv\")\n",
    "Data <- Data[2:ncol(Data)]\n",
    "table(Data$Genre2)\n",
    "\n",
    "Genre <- \"Country\"\n",
    "\n",
    "Document <- Corpus(VectorSource(Data$LyricsClean[Data$Genre2 == Genre]))\n",
    "\n",
    "Document <- tm_map(Document, content_transformer(tolower))\n",
    "Document <- tm_map(Document, removeNumbers)\n",
    "Document <- tm_map(Document, removeWords, stopwords(\"english\"))\n",
    "\n",
    "Document <- tm_map(Document, removeWords, c(\"know\", \"just\", \"can\", \"chorus\", \"verse\", \"get\", \"got\", \"will\", \"much\", \"well\", \"keep\", \"let\", \"see\", \"tell\", \"take\")) \n",
    "\n",
    "Document <- tm_map(Document, removePunctuation)\n",
    "Document <- tm_map(Document, stripWhitespace)\n",
    "\n",
    "# Document <- tm_map(Document, stemDocument)\n",
    "\n",
    "rm(Data)\n",
    "\n",
    "Document <- sort(rowSums(as.matrix(TermDocumentMatrix(Document))),decreasing=TRUE)\n",
    "Document <- data.frame(Word = names(Document), Freq = Document)\n",
    "head(Document, 10)\n",
    "\n",
    "#write.csv(Document,paste(Genre,\".csv\", sep = \"\"))"
   ]
  },
  {
   "cell_type": "code",
   "execution_count": null,
   "metadata": {},
   "outputs": [],
   "source": [
    "wordcloud2(Document, color = \"Brown\",  backgroundColor = \"White\", figPath = \"/Users/Harib/OneDrive/Pictures/Music/Country.png\")"
   ]
  }
 ],
 "metadata": {
  "kernelspec": {
   "display_name": "R",
   "language": "R",
   "name": "ir"
  },
  "language_info": {
   "codemirror_mode": "r",
   "file_extension": ".r",
   "mimetype": "text/x-r-source",
   "name": "R",
   "pygments_lexer": "r",
   "version": "3.6.0"
  }
 },
 "nbformat": 4,
 "nbformat_minor": 2
}
