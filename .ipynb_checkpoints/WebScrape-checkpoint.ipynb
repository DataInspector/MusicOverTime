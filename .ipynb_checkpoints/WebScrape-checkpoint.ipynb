{
 "cells": [
  {
   "cell_type": "markdown",
   "metadata": {},
   "source": [
    "# Import Packages"
   ]
  },
  {
   "cell_type": "code",
   "execution_count": 1,
   "metadata": {
    "ExecuteTime": {
     "end_time": "2019-06-22T10:20:16.451457Z",
     "start_time": "2019-06-22T10:20:01.454803Z"
    }
   },
   "outputs": [],
   "source": [
    "import requests\n",
    "from bs4 import BeautifulSoup\n",
    "import pandas as pd\n",
    "import numpy as np\n",
    "import re\n",
    "import datetime\n",
    "from wordcloud import WordCloud"
   ]
  },
  {
   "cell_type": "markdown",
   "metadata": {},
   "source": [
    "# Produce List Of Dates For Webscrape"
   ]
  },
  {
   "cell_type": "code",
   "execution_count": 5,
   "metadata": {
    "ExecuteTime": {
     "end_time": "2019-06-13T18:58:28.277797Z",
     "start_time": "2019-06-13T18:58:28.257506Z"
    }
   },
   "outputs": [
    {
     "name": "stdout",
     "output_type": "stream",
     "text": [
      "1958-08-11\n"
     ]
    }
   ],
   "source": [
    "DateList = []\n",
    "temp = datetime.date(1958,8,4)\n",
    "DateList.append(temp) \n",
    "while temp < datetime.date.today():\n",
    "    temp = temp + datetime.timedelta(days=7)\n",
    "    DateList.append(str(temp))\n",
    "print(DateList[1])"
   ]
  },
  {
   "cell_type": "markdown",
   "metadata": {},
   "source": [
    "# Define Function To Pull Charts Data & Organise In To Data Frame"
   ]
  },
  {
   "cell_type": "code",
   "execution_count": 6,
   "metadata": {
    "ExecuteTime": {
     "end_time": "2019-06-13T18:58:31.964527Z",
     "start_time": "2019-06-13T18:58:31.957650Z"
    }
   },
   "outputs": [],
   "source": [
    "def Scrape(Date,Website):\n",
    "    r=requests.get(str(Website))\n",
    "    Data = BeautifulSoup(r.text,\"html.parser\")\n",
    "    ArtistList = []\n",
    "    for i in Data.find_all(class_=\"chart-list-item__artist\"):\n",
    "        ArtistList.append(re.search(\".*(?=\\n\\s*</a>)|.*(?=[^</a>]</div>)\",str(i))[0])\n",
    "    TrackList = []\n",
    "    for i in Data.find_all(class_=\"chart-list-item__title-text\"):\n",
    "        TrackList.append(re.search(\".*(?=\\n*</span>)\",str(i))[0])\n",
    "    Output = pd.DataFrame({\"Track\": TrackList,\n",
    "                           \"Artist\": ArtistList,\n",
    "                           \"Rank\": list(range(1, len(TrackList)+1)),\n",
    "                           \"Date\": str(Date)})\n",
    "    return(Output)"
   ]
  },
  {
   "cell_type": "markdown",
   "metadata": {},
   "source": [
    "# Run Function For All Dates & Store In List"
   ]
  },
  {
   "cell_type": "code",
   "execution_count": 7,
   "metadata": {
    "ExecuteTime": {
     "end_time": "2019-06-14T01:16:11.996380Z",
     "start_time": "2019-06-13T18:58:35.696996Z"
    }
   },
   "outputs": [
    {
     "name": "stdout",
     "output_type": "stream",
     "text": [
      "0 Out Of  3177\n",
      "100 Out Of  3177\n",
      "200 Out Of  3177\n",
      "300 Out Of  3177\n",
      "400 Out Of  3177\n",
      "600 Out Of  3177\n",
      "700 Out Of  3177\n",
      "800 Out Of  3177\n",
      "900 Out Of  3177\n",
      "1000 Out Of  3177\n",
      "1100 Out Of  3177\n",
      "1200 Out Of  3177\n",
      "1300 Out Of  3177\n",
      "1400 Out Of  3177\n",
      "1500 Out Of  3177\n",
      "1600 Out Of  3177\n",
      "1700 Out Of  3177\n",
      "1800 Out Of  3177\n",
      "1900 Out Of  3177\n",
      "2000 Out Of  3177\n",
      "2100 Out Of  3177\n",
      "2200 Out Of  3177\n",
      "2300 Out Of  3177\n",
      "2400 Out Of  3177\n",
      "2500 Out Of  3177\n",
      "2600 Out Of  3177\n",
      "2700 Out Of  3177\n",
      "2800 Out Of  3177\n",
      "2900 Out Of  3177\n",
      "3000 Out Of  3177\n",
      "3100 Out Of  3177\n"
     ]
    }
   ],
   "source": [
    "DataFrameList = []\n",
    "for j, i in enumerate(DateList):\n",
    "    if(j%100==0):\n",
    "        print(str(j)+\" Out Of \",str(len(DateList)))\n",
    "    try:\n",
    "        DataFrameList.append(Scrape(str(i),\"https://www.billboard.com/charts/hot-100/\"+str(i)+\"/\"))\n",
    "    except:\n",
    "        pass"
   ]
  },
  {
   "cell_type": "markdown",
   "metadata": {},
   "source": [
    "# Join All Data Frames Together"
   ]
  },
  {
   "cell_type": "code",
   "execution_count": 8,
   "metadata": {
    "ExecuteTime": {
     "end_time": "2019-06-14T01:19:58.594030Z",
     "start_time": "2019-06-14T01:16:12.004535Z"
    }
   },
   "outputs": [
    {
     "name": "stdout",
     "output_type": "stream",
     "text": [
      "(305885, 4)\n"
     ]
    }
   ],
   "source": [
    "Data = DataFrameList[0]\n",
    "for j, i in enumerate(DataFrameList):\n",
    "    Data = pd.concat([Data,i])\n",
    "print(Data.shape)"
   ]
  },
  {
   "cell_type": "markdown",
   "metadata": {},
   "source": [
    "# Create No Duplicate Song Data"
   ]
  },
  {
   "cell_type": "code",
   "execution_count": 9,
   "metadata": {
    "ExecuteTime": {
     "end_time": "2019-06-14T01:19:58.836630Z",
     "start_time": "2019-06-14T01:19:58.595918Z"
    }
   },
   "outputs": [
    {
     "data": {
      "text/plain": [
       "(38193, 2)"
      ]
     },
     "execution_count": 9,
     "metadata": {},
     "output_type": "execute_result"
    }
   ],
   "source": [
    "DataNoDups = Data[[\"Track\",\"Artist\"]].drop_duplicates(keep=\"first\")\n",
    "DataNoDups = DataNoDups.reset_index(drop = True)\n",
    "DataNoDups.shape"
   ]
  },
  {
   "cell_type": "markdown",
   "metadata": {},
   "source": [
    "# Pull Lyrics For Unique Songs Where Possible"
   ]
  },
  {
   "cell_type": "code",
   "execution_count": 10,
   "metadata": {
    "ExecuteTime": {
     "end_time": "2019-06-14T03:25:16.613423Z",
     "start_time": "2019-06-14T01:19:58.838040Z"
    },
    "scrolled": true
   },
   "outputs": [
    {
     "name": "stdout",
     "output_type": "stream",
     "text": [
      "0 Out Of  38193\n",
      "2000 Out Of  38193\n",
      "4000 Out Of  38193\n",
      "6000 Out Of  38193\n",
      "8000 Out Of  38193\n",
      "10000 Out Of  38193\n",
      "12000 Out Of  38193\n",
      "14000 Out Of  38193\n",
      "16000 Out Of  38193\n",
      "18000 Out Of  38193\n",
      "20000 Out Of  38193\n",
      "22000 Out Of  38193\n",
      "24000 Out Of  38193\n",
      "26000 Out Of  38193\n",
      "28000 Out Of  38193\n",
      "30000 Out Of  38193\n",
      "32000 Out Of  38193\n",
      "34000 Out Of  38193\n",
      "36000 Out Of  38193\n",
      "38000 Out Of  38193\n"
     ]
    }
   ],
   "source": [
    "Lyrics = []\n",
    "for i, j in enumerate(DataNoDups.Track):\n",
    "    if(i%2000==0):\n",
    "        print(str(i)+\" Out Of \",str(len(DataNoDups.Track)))\n",
    "    try:\n",
    "        Website = \"http://api.chartlyrics.com/apiv1.asmx/SearchLyricDirect?artist=\"+str(DataNoDups.Artist[i])+\"&song=\"+str(DataNoDups.Track[i])\n",
    "        r = requests.get(Website)\n",
    "        Output = BeautifulSoup(r.text,\"html.parser\")\n",
    "        Output = str(Output.find_all(\"lyric\"))\n",
    "        Lyrics.append(re.search(\"(?<=<lyric>).*(?=</lyric>)\",Output,re.DOTALL)[0])\n",
    "    except:\n",
    "        Lyrics.append(\"Error\")\n",
    "    pass"
   ]
  },
  {
   "cell_type": "markdown",
   "metadata": {},
   "source": [
    "# Create Lyrics Lookup Table & Print Match Rate"
   ]
  },
  {
   "cell_type": "code",
   "execution_count": 11,
   "metadata": {
    "ExecuteTime": {
     "end_time": "2019-06-14T03:25:16.671944Z",
     "start_time": "2019-06-14T03:25:16.615844Z"
    }
   },
   "outputs": [
    {
     "name": "stdout",
     "output_type": "stream",
     "text": [
      "22714  - Rows With Lyrics\n"
     ]
    }
   ],
   "source": [
    "print(len([Text for Text in Lyrics if len(Text) > 20]), \" - Rows With Lyrics\")\n",
    "DataNoDups[\"Lyrics\"] = Lyrics\n",
    "DataNoDups[\"Temp\"] = DataNoDups.Track + \" \" + DataNoDups.Artist"
   ]
  },
  {
   "cell_type": "markdown",
   "metadata": {},
   "source": [
    "# Pull The Lyrics In To The Main Dataset And Print Match Rate"
   ]
  },
  {
   "cell_type": "code",
   "execution_count": 12,
   "metadata": {
    "ExecuteTime": {
     "end_time": "2019-06-14T03:25:17.246984Z",
     "start_time": "2019-06-14T03:25:16.674567Z"
    }
   },
   "outputs": [
    {
     "name": "stdout",
     "output_type": "stream",
     "text": [
      "0.6895467250764176  - % Rows With Lyrics\n"
     ]
    },
    {
     "data": {
      "text/html": [
       "<div>\n",
       "<style scoped>\n",
       "    .dataframe tbody tr th:only-of-type {\n",
       "        vertical-align: middle;\n",
       "    }\n",
       "\n",
       "    .dataframe tbody tr th {\n",
       "        vertical-align: top;\n",
       "    }\n",
       "\n",
       "    .dataframe thead th {\n",
       "        text-align: right;\n",
       "    }\n",
       "</style>\n",
       "<table border=\"1\" class=\"dataframe\">\n",
       "  <thead>\n",
       "    <tr style=\"text-align: right;\">\n",
       "      <th></th>\n",
       "      <th>Track</th>\n",
       "      <th>Artist</th>\n",
       "      <th>Rank</th>\n",
       "      <th>Date</th>\n",
       "      <th>Lyrics</th>\n",
       "    </tr>\n",
       "  </thead>\n",
       "  <tbody>\n",
       "    <tr>\n",
       "      <th>0</th>\n",
       "      <td>Poor Little Fool</td>\n",
       "      <td>Ricky Nelson</td>\n",
       "      <td>1.0</td>\n",
       "      <td>1958-08-04</td>\n",
       "      <td>I used to play around with hearts\\r\\nthat hast...</td>\n",
       "    </tr>\n",
       "    <tr>\n",
       "      <th>1</th>\n",
       "      <td>Patricia</td>\n",
       "      <td>Perez Prado And His Orchestra</td>\n",
       "      <td>2.0</td>\n",
       "      <td>1958-08-04</td>\n",
       "      <td>Instrumental, NO LYRICS</td>\n",
       "    </tr>\n",
       "    <tr>\n",
       "      <th>2</th>\n",
       "      <td>Splish Splash</td>\n",
       "      <td>Bobby Darin</td>\n",
       "      <td>3.0</td>\n",
       "      <td>1958-08-04</td>\n",
       "      <td>splish splash\\r\\nI was taking a bath\\r\\nlong a...</td>\n",
       "    </tr>\n",
       "    <tr>\n",
       "      <th>3</th>\n",
       "      <td>Hard Headed Woman</td>\n",
       "      <td>Elvis Presley With The Jordanaires</td>\n",
       "      <td>4.0</td>\n",
       "      <td>1958-08-04</td>\n",
       "      <td>Well a hard headed woman,\\r\\nA soft hearted ma...</td>\n",
       "    </tr>\n",
       "    <tr>\n",
       "      <th>4</th>\n",
       "      <td>When</td>\n",
       "      <td>Kalin Twins</td>\n",
       "      <td>5.0</td>\n",
       "      <td>1958-08-04</td>\n",
       "      <td>Error</td>\n",
       "    </tr>\n",
       "  </tbody>\n",
       "</table>\n",
       "</div>"
      ],
      "text/plain": [
       "               Track                              Artist  Rank        Date  \\\n",
       "0   Poor Little Fool                        Ricky Nelson   1.0  1958-08-04   \n",
       "1           Patricia       Perez Prado And His Orchestra   2.0  1958-08-04   \n",
       "2      Splish Splash                         Bobby Darin   3.0  1958-08-04   \n",
       "3  Hard Headed Woman  Elvis Presley With The Jordanaires   4.0  1958-08-04   \n",
       "4               When                         Kalin Twins   5.0  1958-08-04   \n",
       "\n",
       "                                              Lyrics  \n",
       "0  I used to play around with hearts\\r\\nthat hast...  \n",
       "1                            Instrumental, NO LYRICS  \n",
       "2  splish splash\\r\\nI was taking a bath\\r\\nlong a...  \n",
       "3  Well a hard headed woman,\\r\\nA soft hearted ma...  \n",
       "4                                              Error  "
      ]
     },
     "execution_count": 12,
     "metadata": {},
     "output_type": "execute_result"
    }
   ],
   "source": [
    "Data[\"Temp\"] = Data.Track + \" \" + Data.Artist\n",
    "Data = Data.merge(DataNoDups[[\"Temp\",\"Lyrics\"]], how = \"left\", on = \"Temp\")\n",
    "Data = Data.drop(columns = \"Temp\")\n",
    "print(len([Text for Text in Data.Lyrics if len(Text) > 20])/len(Data.Lyrics), \" - % Rows With Lyrics\")\n",
    "Data.head()"
   ]
  },
  {
   "cell_type": "markdown",
   "metadata": {},
   "source": [
    "# Create No Duplicates Artist Data"
   ]
  },
  {
   "cell_type": "code",
   "execution_count": 47,
   "metadata": {
    "ExecuteTime": {
     "end_time": "2019-06-22T10:47:40.985556Z",
     "start_time": "2019-06-22T10:47:40.968955Z"
    }
   },
   "outputs": [
    {
     "name": "stdout",
     "output_type": "stream",
     "text": [
      "11769\n"
     ]
    }
   ],
   "source": [
    "ArtistData = list(Data[\"Artist\"].drop_duplicates())\n",
    "print(len(ArtistData))"
   ]
  },
  {
   "cell_type": "markdown",
   "metadata": {},
   "source": [
    "# Pull Genres For Artists In"
   ]
  },
  {
   "cell_type": "code",
   "execution_count": 14,
   "metadata": {
    "ExecuteTime": {
     "end_time": "2019-06-14T04:14:44.263985Z",
     "start_time": "2019-06-14T03:25:17.299898Z"
    }
   },
   "outputs": [
    {
     "name": "stdout",
     "output_type": "stream",
     "text": [
      "0 Out Of  11769\n",
      "1000 Out Of  11769\n",
      "2000 Out Of  11769\n",
      "3000 Out Of  11769\n",
      "4000 Out Of  11769\n",
      "5000 Out Of  11769\n",
      "6000 Out Of  11769\n",
      "7000 Out Of  11769\n",
      "8000 Out Of  11769\n",
      "9000 Out Of  11769\n",
      "10000 Out Of  11769\n",
      "11000 Out Of  11769\n"
     ]
    }
   ],
   "source": [
    "Genres = []\n",
    "for j, i in enumerate(ArtistData):\n",
    "    if(j%1000==0):\n",
    "        print(str(j)+\" Out Of \",str(len(ArtistData)))\n",
    "    try:\n",
    "        if(re.search(\"With\",i) !=None):\n",
    "            temp = re.search(\".*(?=With)\",i)[0]\n",
    "        elif(re.search(\"Feat\",i) !=None):\n",
    "            temp = re.search(\".*(?=Feat)\",i)[0]\n",
    "        elif(re.search(\",\",i) !=None):\n",
    "            temp = i.split(\",\")[0]\n",
    "        elif(re.search(\"&\",i) !=None):\n",
    "            temp = re.search(\".*(?=&)\",i)[0]\n",
    "        else:\n",
    "            temp = i\n",
    "        temp = temp.lstrip()\n",
    "        Website = \"https://www.allmusic.com/search/artists/\" + str(temp)\n",
    "        r = requests.get(Website,headers = {'User-Agent': 'Mozilla/5.0 (Macintosh; Intel Mac OS X 10_11_5) AppleWebKit/537.36 (KHTML, like Gecko) Chrome/50.0.2661.102 Safari/537.36'})\n",
    "        Output = BeautifulSoup(r.text,\"html.parser\")\n",
    "        Output = str(Output.find_all(class_=\"genres\")[0])\n",
    "        Genres.append(re.search(\"(?<=>)\\s*.*(?=</)\",Output,re.MULTILINE)[0])\n",
    "    except:\n",
    "        Genres.append(\"Error\")"
   ]
  },
  {
   "cell_type": "markdown",
   "metadata": {},
   "source": [
    "# Create Genre Lookup Table"
   ]
  },
  {
   "cell_type": "code",
   "execution_count": 15,
   "metadata": {
    "ExecuteTime": {
     "end_time": "2019-06-14T04:14:44.280429Z",
     "start_time": "2019-06-14T04:14:44.265779Z"
    }
   },
   "outputs": [
    {
     "name": "stdout",
     "output_type": "stream",
     "text": [
      "Match Rate -  0.9688163820205625\n"
     ]
    }
   ],
   "source": [
    "ArtistData = pd.DataFrame({\"Artists\" : ArtistData})\n",
    "ArtistData[\"Genres\"] = Genres\n",
    "print(\"Match Rate - \", 1 -len(ArtistData.loc[ArtistData.Genres == \"Error\"])/len(ArtistData.Artists))"
   ]
  },
  {
   "cell_type": "markdown",
   "metadata": {},
   "source": [
    "# Pull The Genre In To The Main Dataset And Print Match Rate"
   ]
  },
  {
   "cell_type": "code",
   "execution_count": 16,
   "metadata": {
    "ExecuteTime": {
     "end_time": "2019-06-14T04:14:45.177116Z",
     "start_time": "2019-06-14T04:14:44.282050Z"
    }
   },
   "outputs": [
    {
     "name": "stdout",
     "output_type": "stream",
     "text": [
      "0.9847605343623788  - % Rows With Genres\n"
     ]
    }
   ],
   "source": [
    "Data = Data.drop_duplicates()\n",
    "Data = Data.merge(ArtistData, how = \"left\", left_on=\"Artist\", right_on = \"Artists\").drop(columns = \"Artists\")\n",
    "print(len([Text for Text in Data.Genres if Text != \"Error\"])/len(Data.Genres), \" - % Rows With Genres\")"
   ]
  },
  {
   "cell_type": "markdown",
   "metadata": {},
   "source": [
    "# Clean Genres"
   ]
  },
  {
   "cell_type": "code",
   "execution_count": 17,
   "metadata": {
    "ExecuteTime": {
     "end_time": "2019-06-14T04:14:46.130399Z",
     "start_time": "2019-06-14T04:14:45.178692Z"
    }
   },
   "outputs": [],
   "source": [
    "GenresClean = []\n",
    "for j, i in enumerate(Data.Genres):\n",
    "    try:\n",
    "        GenresClean.append(re.search(\"(?<=\\n)\\s*\\w*/*\\w*\",str(i))[0])\n",
    "    except:\n",
    "        GenresClean.append(\"Error\")\n",
    "GenresClean = [Text.strip(' ') for Text in GenresClean]\n",
    "GenresClean = np.where(np.array(GenresClean) == \"R\",\"R&B\",GenresClean)\n",
    "Data[\"GenresClean\"] = GenresClean"
   ]
  },
  {
   "cell_type": "markdown",
   "metadata": {},
   "source": [
    "# Clean Lyrics"
   ]
  },
  {
   "cell_type": "code",
   "execution_count": 18,
   "metadata": {
    "ExecuteTime": {
     "end_time": "2019-06-14T04:14:49.731398Z",
     "start_time": "2019-06-14T04:14:46.131935Z"
    }
   },
   "outputs": [],
   "source": [
    "LyricsClean = []\n",
    "for i in Data.Lyrics:\n",
    "    try:\n",
    "        temp = i.replace(\"\\r\",\" \")\n",
    "        temp = temp.replace(\"\\n\",\" \")\n",
    "        temp = temp.replace(\"\\\\\",\" \")\n",
    "        temp = temp.replace(\"   \", \" \")\n",
    "        temp = temp.replace(\"  \", \" \")\n",
    "        LyricsClean.append(temp)\n",
    "    except:\n",
    "        LyricsClean.append(\"Error\")\n",
    "Data[\"LyricsClean\"] = LyricsClean"
   ]
  },
  {
   "cell_type": "markdown",
   "metadata": {},
   "source": [
    "# Checkpoint Output Dataset"
   ]
  },
  {
   "cell_type": "code",
   "execution_count": 19,
   "metadata": {
    "ExecuteTime": {
     "end_time": "2019-06-14T04:14:59.933992Z",
     "start_time": "2019-06-14T04:14:49.733039Z"
    },
    "scrolled": false
   },
   "outputs": [
    {
     "name": "stdout",
     "output_type": "stream",
     "text": [
      "0.9848 - Genre Match Rate\n",
      "0.9417 - Lyrics Match Rate\n"
     ]
    },
    {
     "data": {
      "text/html": [
       "<div>\n",
       "<style scoped>\n",
       "    .dataframe tbody tr th:only-of-type {\n",
       "        vertical-align: middle;\n",
       "    }\n",
       "\n",
       "    .dataframe tbody tr th {\n",
       "        vertical-align: top;\n",
       "    }\n",
       "\n",
       "    .dataframe thead th {\n",
       "        text-align: right;\n",
       "    }\n",
       "</style>\n",
       "<table border=\"1\" class=\"dataframe\">\n",
       "  <thead>\n",
       "    <tr style=\"text-align: right;\">\n",
       "      <th></th>\n",
       "      <th>Track</th>\n",
       "      <th>Artist</th>\n",
       "      <th>Rank</th>\n",
       "      <th>Date</th>\n",
       "      <th>GenresClean</th>\n",
       "      <th>LyricsClean</th>\n",
       "    </tr>\n",
       "  </thead>\n",
       "  <tbody>\n",
       "    <tr>\n",
       "      <th>0</th>\n",
       "      <td>Poor Little Fool</td>\n",
       "      <td>Ricky Nelson</td>\n",
       "      <td>1.0</td>\n",
       "      <td>1958-08-04</td>\n",
       "      <td>Pop/Rock</td>\n",
       "      <td>I used to play around with hearts that hastene...</td>\n",
       "    </tr>\n",
       "    <tr>\n",
       "      <th>1</th>\n",
       "      <td>Patricia</td>\n",
       "      <td>Perez Prado And His Orchestra</td>\n",
       "      <td>2.0</td>\n",
       "      <td>1958-08-04</td>\n",
       "      <td>Latin</td>\n",
       "      <td>Instrumental, NO LYRICS</td>\n",
       "    </tr>\n",
       "    <tr>\n",
       "      <th>2</th>\n",
       "      <td>Splish Splash</td>\n",
       "      <td>Bobby Darin</td>\n",
       "      <td>3.0</td>\n",
       "      <td>1958-08-04</td>\n",
       "      <td>Pop/Rock</td>\n",
       "      <td>splish splash I was taking a bath long about a...</td>\n",
       "    </tr>\n",
       "    <tr>\n",
       "      <th>3</th>\n",
       "      <td>Hard Headed Woman</td>\n",
       "      <td>Elvis Presley With The Jordanaires</td>\n",
       "      <td>4.0</td>\n",
       "      <td>1958-08-04</td>\n",
       "      <td>Pop/Rock</td>\n",
       "      <td>Well a hard headed woman, A soft hearted man B...</td>\n",
       "    </tr>\n",
       "    <tr>\n",
       "      <th>4</th>\n",
       "      <td>When</td>\n",
       "      <td>Kalin Twins</td>\n",
       "      <td>5.0</td>\n",
       "      <td>1958-08-04</td>\n",
       "      <td>Pop/Rock</td>\n",
       "      <td>Error</td>\n",
       "    </tr>\n",
       "  </tbody>\n",
       "</table>\n",
       "</div>"
      ],
      "text/plain": [
       "               Track                              Artist  Rank        Date  \\\n",
       "0   Poor Little Fool                        Ricky Nelson   1.0  1958-08-04   \n",
       "1           Patricia       Perez Prado And His Orchestra   2.0  1958-08-04   \n",
       "2      Splish Splash                         Bobby Darin   3.0  1958-08-04   \n",
       "3  Hard Headed Woman  Elvis Presley With The Jordanaires   4.0  1958-08-04   \n",
       "4               When                         Kalin Twins   5.0  1958-08-04   \n",
       "\n",
       "  GenresClean                                        LyricsClean  \n",
       "0    Pop/Rock  I used to play around with hearts that hastene...  \n",
       "1       Latin                            Instrumental, NO LYRICS  \n",
       "2    Pop/Rock  splish splash I was taking a bath long about a...  \n",
       "3    Pop/Rock  Well a hard headed woman, A soft hearted man B...  \n",
       "4    Pop/Rock                                              Error  "
      ]
     },
     "execution_count": 19,
     "metadata": {},
     "output_type": "execute_result"
    }
   ],
   "source": [
    "CleanData = Data.drop(columns = [\"Lyrics\",\"Genres\"])\n",
    "CleanData.to_csv(\"Data.csv\")\n",
    "print(str(round(len(CleanData.loc[CleanData.GenresClean != \"Error\"])/len(CleanData),4)) + \" - Genre Match Rate\")\n",
    "print(str(round(len(CleanData.loc[CleanData.LyricsClean != \"Error\"])/len(CleanData),4)) +\" - Lyrics Match Rate\")\n",
    "CleanData.head()"
   ]
  },
  {
   "cell_type": "markdown",
   "metadata": {},
   "source": [
    "# Read Data From Checkpoint"
   ]
  },
  {
   "cell_type": "code",
   "execution_count": 70,
   "metadata": {
    "ExecuteTime": {
     "end_time": "2019-06-22T14:43:28.265548Z",
     "start_time": "2019-06-22T14:43:26.187502Z"
    }
   },
   "outputs": [
    {
     "name": "stdout",
     "output_type": "stream",
     "text": [
      "(305785, 6)\n"
     ]
    }
   ],
   "source": [
    "Data = pd.read_csv(\"Data.csv\").drop(columns = \"Unnamed: 0\")\n",
    "print(Data.shape)"
   ]
  },
  {
   "cell_type": "markdown",
   "metadata": {},
   "source": [
    "# Clean Up Artists"
   ]
  },
  {
   "cell_type": "code",
   "execution_count": 71,
   "metadata": {
    "ExecuteTime": {
     "end_time": "2019-06-22T14:43:39.683182Z",
     "start_time": "2019-06-22T14:43:39.231166Z"
    }
   },
   "outputs": [
    {
     "name": "stdout",
     "output_type": "stream",
     "text": [
      "305785 305785\n"
     ]
    },
    {
     "data": {
      "text/html": [
       "<div>\n",
       "<style scoped>\n",
       "    .dataframe tbody tr th:only-of-type {\n",
       "        vertical-align: middle;\n",
       "    }\n",
       "\n",
       "    .dataframe tbody tr th {\n",
       "        vertical-align: top;\n",
       "    }\n",
       "\n",
       "    .dataframe thead th {\n",
       "        text-align: right;\n",
       "    }\n",
       "</style>\n",
       "<table border=\"1\" class=\"dataframe\">\n",
       "  <thead>\n",
       "    <tr style=\"text-align: right;\">\n",
       "      <th></th>\n",
       "      <th>Track</th>\n",
       "      <th>Artist</th>\n",
       "      <th>Rank</th>\n",
       "      <th>Date</th>\n",
       "      <th>GenresClean</th>\n",
       "      <th>LyricsClean</th>\n",
       "      <th>ArtistClean</th>\n",
       "    </tr>\n",
       "  </thead>\n",
       "  <tbody>\n",
       "    <tr>\n",
       "      <th>0</th>\n",
       "      <td>Poor Little Fool</td>\n",
       "      <td>Ricky Nelson</td>\n",
       "      <td>1.0</td>\n",
       "      <td>1958-08-04</td>\n",
       "      <td>Pop/Rock</td>\n",
       "      <td>I used to play around with hearts that hastene...</td>\n",
       "      <td>ricky nelson</td>\n",
       "    </tr>\n",
       "    <tr>\n",
       "      <th>1</th>\n",
       "      <td>Patricia</td>\n",
       "      <td>Perez Prado And His Orchestra</td>\n",
       "      <td>2.0</td>\n",
       "      <td>1958-08-04</td>\n",
       "      <td>Latin</td>\n",
       "      <td>Instrumental, NO LYRICS</td>\n",
       "      <td>perez prado</td>\n",
       "    </tr>\n",
       "    <tr>\n",
       "      <th>2</th>\n",
       "      <td>Splish Splash</td>\n",
       "      <td>Bobby Darin</td>\n",
       "      <td>3.0</td>\n",
       "      <td>1958-08-04</td>\n",
       "      <td>Pop/Rock</td>\n",
       "      <td>splish splash I was taking a bath long about a...</td>\n",
       "      <td>bobby darin</td>\n",
       "    </tr>\n",
       "    <tr>\n",
       "      <th>3</th>\n",
       "      <td>Hard Headed Woman</td>\n",
       "      <td>Elvis Presley With The Jordanaires</td>\n",
       "      <td>4.0</td>\n",
       "      <td>1958-08-04</td>\n",
       "      <td>Pop/Rock</td>\n",
       "      <td>Well a hard headed woman, A soft hearted man B...</td>\n",
       "      <td>elvis presley</td>\n",
       "    </tr>\n",
       "    <tr>\n",
       "      <th>4</th>\n",
       "      <td>When</td>\n",
       "      <td>Kalin Twins</td>\n",
       "      <td>5.0</td>\n",
       "      <td>1958-08-04</td>\n",
       "      <td>Pop/Rock</td>\n",
       "      <td>Error</td>\n",
       "      <td>kalin twins</td>\n",
       "    </tr>\n",
       "  </tbody>\n",
       "</table>\n",
       "</div>"
      ],
      "text/plain": [
       "               Track                              Artist  Rank        Date  \\\n",
       "0   Poor Little Fool                        Ricky Nelson   1.0  1958-08-04   \n",
       "1           Patricia       Perez Prado And His Orchestra   2.0  1958-08-04   \n",
       "2      Splish Splash                         Bobby Darin   3.0  1958-08-04   \n",
       "3  Hard Headed Woman  Elvis Presley With The Jordanaires   4.0  1958-08-04   \n",
       "4               When                         Kalin Twins   5.0  1958-08-04   \n",
       "\n",
       "  GenresClean                                        LyricsClean  \\\n",
       "0    Pop/Rock  I used to play around with hearts that hastene...   \n",
       "1       Latin                            Instrumental, NO LYRICS   \n",
       "2    Pop/Rock  splish splash I was taking a bath long about a...   \n",
       "3    Pop/Rock  Well a hard headed woman, A soft hearted man B...   \n",
       "4    Pop/Rock                                              Error   \n",
       "\n",
       "      ArtistClean  \n",
       "0    ricky nelson  \n",
       "1     perez prado  \n",
       "2     bobby darin  \n",
       "3  elvis presley   \n",
       "4     kalin twins  "
      ]
     },
     "execution_count": 71,
     "metadata": {},
     "output_type": "execute_result"
    }
   ],
   "source": [
    "CleanArtist = [str(i).strip().lower() for i in Data.Artist]\n",
    "\n",
    "TidyArtist = []\n",
    "j = 20000\n",
    "for i in CleanArtist:\n",
    "    CurrentArtist = str(i)\n",
    "    if \"and \" in i:\n",
    "        CurrentArtist = CurrentArtist[:CurrentArtist.find(\"and \")]\n",
    "    if \"&\" in i:\n",
    "        CurrentArtist = CurrentArtist[:CurrentArtist.find(\"&\")]\n",
    "    if \"with \" in i:\n",
    "        CurrentArtist = CurrentArtist[:CurrentArtist.find(\"with \")]    \n",
    "    if \"featuring \" in i:\n",
    "        CurrentArtist = CurrentArtist[:CurrentArtist.find(\"featuring \")]\n",
    "    if \"his \" in i:\n",
    "        CurrentArtist = CurrentArtist[:CurrentArtist.find(\"his \")]    \n",
    "    if \"wit \" in i:\n",
    "        CurrentArtist = CurrentArtist[:CurrentArtist.find(\"wit \")]          \n",
    "    if \"x \" in i:\n",
    "        CurrentArtist = CurrentArtist[:CurrentArtist.find(\"x \")]  \n",
    "    if \"+\" in i:\n",
    "        CurrentArtist = CurrentArtist[:CurrentArtist.find(\"+\")]  \n",
    "    if \",\" in i:\n",
    "        CurrentArtist = CurrentArtist[:CurrentArtist.find(\",\")]                      \n",
    "    if \"/\" in i:\n",
    "        CurrentArtist = CurrentArtist[:CurrentArtist.find(\"/\")] \n",
    "    if \";\" in i:\n",
    "        CurrentArtist = CurrentArtist[:CurrentArtist.find(\";\")] \n",
    "    TidyArtist.append(CurrentArtist)\n",
    "\n",
    "print(len(TidyArtist),len(Data.Artist))\n",
    "\n",
    "Data[\"ArtistClean\"] = TidyArtist\n",
    "Data.head()"
   ]
  },
  {
   "cell_type": "markdown",
   "metadata": {},
   "source": [
    "# Prepare Artist List"
   ]
  },
  {
   "cell_type": "code",
   "execution_count": 60,
   "metadata": {
    "ExecuteTime": {
     "end_time": "2019-06-22T10:59:48.387383Z",
     "start_time": "2019-06-22T10:59:48.348519Z"
    }
   },
   "outputs": [
    {
     "name": "stdout",
     "output_type": "stream",
     "text": [
      "7706\n"
     ]
    }
   ],
   "source": [
    "ArtistList = Data.ArtistClean.unique()\n",
    "print(len(ArtistList))"
   ]
  },
  {
   "cell_type": "markdown",
   "metadata": {},
   "source": [
    "# Pull Genre From Wikipedia"
   ]
  },
  {
   "cell_type": "code",
   "execution_count": 61,
   "metadata": {
    "ExecuteTime": {
     "end_time": "2019-06-22T13:34:31.443695Z",
     "start_time": "2019-06-22T10:59:59.345844Z"
    }
   },
   "outputs": [
    {
     "name": "stdout",
     "output_type": "stream",
     "text": [
      "0\n",
      "500\n",
      "1000\n",
      "1500\n",
      "2000\n",
      "2500\n",
      "3000\n",
      "3500\n",
      "4000\n",
      "4500\n",
      "5000\n",
      "5500\n",
      "6000\n",
      "6500\n",
      "7000\n",
      "7500\n"
     ]
    }
   ],
   "source": [
    "GenreList = []\n",
    "for j, i in enumerate(ArtistList):\n",
    "    if(j%500 == 0):\n",
    "        print(j)\n",
    "    r = requests.get(\"https://en.wikipedia.org/w/index.php?search={}+Music+OR+Artist\".format(str(i)), allow_redirects=True)\n",
    "    Extract = BeautifulSoup(r.text, \"html.parser\")\n",
    "    try:\n",
    "        r = requests.get(\"https://en.wikipedia.org/\"+str(re.search('(?<=href=\\\")\\S*(?=\\\")',\n",
    "                                                                    str(Extract.find_all(class_=\"mw-search-result-heading\")[0]))[0]))\n",
    "        Extract = BeautifulSoup(r.text, \"html.parser\")\n",
    "        if Extract.find_all(class_=\"infobox vcard plainlist\"):\n",
    "            try:\n",
    "                GenreList.append(re.findall('(?<=title\\=\").*?(?=\\\")',\n",
    "                                                         re.search(\"Genres.*(?=</ul>)\",\n",
    "                                                                   \" \".join(str(\n",
    "                                                                       Extract.find_all(class_=\"infobox vcard plainlist\")).split(\"\\n\")))[0])[0])\n",
    "            except:\n",
    "                try:\n",
    "                    GenreList.append(re.search('(?<=title=).*?(?=\\>)',\n",
    "                            re.search(\"(?<=Genres)\\D*\",\n",
    "                                                                       \" \".join(str(\n",
    "                                                                           Extract.find_all(class_=\"infobox vcard plainlist\")).split(\"\\n\")))[0])[0])\n",
    "                except:\n",
    "                    GenreList.append(re.search(\"(?<=Genres).*?(?=</td>)\",\n",
    "                                                                       \" \".join(str(\n",
    "                                                                           Extract.find_all(class_=\"infobox vcard plainlist\")).split(\"\\n\")))[0])\n",
    "        elif Extract.find_all(class_=\"infobox biography vcard\"):\n",
    "            try:\n",
    "                GenreList.append(re.findall('(?<=title\\=\").*?(?=\\\")',\n",
    "                                                         re.search(\"Genres.*(?=</ul>)\",\n",
    "                                                                   \" \".join(str(\n",
    "                                                                   Extract.find_all(class_=\"infobox biography vcard\")).split(\"\\n\")))[0])[0])\n",
    "            except:\n",
    "                GenreList.append(\"NO MATCH\")\n",
    "        elif Extract.find_all(class_=\"infobox vcard\"):\n",
    "            try:\n",
    "                GenreList.append(re.findall('(?<=title\\=\").*?(?=\\\")',\n",
    "                                                         re.search(\"Genres.*(?=</ul>)\",\n",
    "                                                                   \" \".join(str(\n",
    "                                                                   Extract.find_all(class_=\"infobox vcard\")).split(\"\\n\")))[0])[0])\n",
    "            except:\n",
    "                GenreList.append(\"NO MATCH\")\n",
    "        else:\n",
    "            r = requests.get(\"https://en.wikipedia.org/w/index.php?search={}+Music\".format(str(i)), allow_redirects=True)\n",
    "            Extract = BeautifulSoup(r.text, \"html.parser\")\n",
    "            r = requests.get(\"https://en.wikipedia.org/\"+str(re.search('(?<=href=\\\")\\S*(?=\\\")',\n",
    "                                                                    str(Extract.find_all(class_=\"mw-search-result-heading\")[0]))[0]))\n",
    "            Extract = BeautifulSoup(r.text, \"html.parser\")\n",
    "            if Extract.find_all(class_=\"infobox vcard plainlist\"):\n",
    "                try:\n",
    "                    GenreList.append(re.findall('(?<=title\\=\").*?(?=\\\")',\n",
    "                                                             re.search(\"Genres.*(?=</ul>)\",\n",
    "                                                                       \" \".join(str(\n",
    "                                                                           Extract.find_all(class_=\"infobox vcard plainlist\")).split(\"\\n\")))[0])[0])\n",
    "                except:\n",
    "                    try:\n",
    "                        GenreList.append(re.search('(?<=title=).*?(?=\\>)',\n",
    "                                re.search(\"(?<=Genres)\\D*\",\n",
    "                                                                           \" \".join(str(\n",
    "                                                                               Extract.find_all(class_=\"infobox vcard plainlist\")).split(\"\\n\")))[0])[0])\n",
    "                    except:\n",
    "                        GenreList.append(re.search(\"(?<=Genres).*?(?=</td>)\",\n",
    "                                                                           \" \".join(str(\n",
    "                                                                               Extract.find_all(class_=\"infobox vcard plainlist\")).split(\"\\n\")))[0])\n",
    "            elif Extract.find_all(class_=\"infobox biography vcard\"):\n",
    "                try:\n",
    "                    GenreList.append(re.findall('(?<=title\\=\").*?(?=\\\")',\n",
    "                                                             re.search(\"Genres.*(?=</ul>)\",\n",
    "                                                                       \" \".join(str(\n",
    "                                                                       Extract.find_all(class_=\"infobox biography vcard\")).split(\"\\n\")))[0])[0])\n",
    "                except:\n",
    "                    GenreList.append(\"NO MATCH\")\n",
    "            elif Extract.find_all(class_=\"infobox vcard\"):\n",
    "                try:\n",
    "                    GenreList.append(re.findall('(?<=title\\=\").*?(?=\\\")',\n",
    "                                                         re.search(\"Genres.*(?=</ul>)\",\n",
    "                                                                   \" \".join(str(\n",
    "                                                                   Extract.find_all(class_=\"infobox vcard\")).split(\"\\n\")))[0])[0])\n",
    "                except:\n",
    "                    GenreList.append(\"NO MATCH\")\n",
    "            else:\n",
    "                GenreList.append(\"NO MATCH\")\n",
    "    except:\n",
    "        GenreList.append(\"NO MATCH\")"
   ]
  },
  {
   "cell_type": "markdown",
   "metadata": {},
   "source": [
    "# Build Artist Genre Lookup Table"
   ]
  },
  {
   "cell_type": "code",
   "execution_count": 62,
   "metadata": {
    "ExecuteTime": {
     "end_time": "2019-06-22T13:34:31.472841Z",
     "start_time": "2019-06-22T13:34:31.446192Z"
    }
   },
   "outputs": [
    {
     "name": "stdout",
     "output_type": "stream",
     "text": [
      "7706 7706\n"
     ]
    },
    {
     "data": {
      "text/html": [
       "<div>\n",
       "<style scoped>\n",
       "    .dataframe tbody tr th:only-of-type {\n",
       "        vertical-align: middle;\n",
       "    }\n",
       "\n",
       "    .dataframe tbody tr th {\n",
       "        vertical-align: top;\n",
       "    }\n",
       "\n",
       "    .dataframe thead th {\n",
       "        text-align: right;\n",
       "    }\n",
       "</style>\n",
       "<table border=\"1\" class=\"dataframe\">\n",
       "  <thead>\n",
       "    <tr style=\"text-align: right;\">\n",
       "      <th></th>\n",
       "      <th>Artist</th>\n",
       "      <th>Genre</th>\n",
       "    </tr>\n",
       "  </thead>\n",
       "  <tbody>\n",
       "    <tr>\n",
       "      <th>0</th>\n",
       "      <td>ricky nelson</td>\n",
       "      <td>Rockabilly</td>\n",
       "    </tr>\n",
       "    <tr>\n",
       "      <th>1</th>\n",
       "      <td>perez prado</td>\n",
       "      <td>\"Mambo (music)\"</td>\n",
       "    </tr>\n",
       "    <tr>\n",
       "      <th>2</th>\n",
       "      <td>bobby darin</td>\n",
       "      <td>Jazz</td>\n",
       "    </tr>\n",
       "    <tr>\n",
       "      <th>3</th>\n",
       "      <td>elvis presley</td>\n",
       "      <td>Rock and roll</td>\n",
       "    </tr>\n",
       "    <tr>\n",
       "      <th>4</th>\n",
       "      <td>kalin twins</td>\n",
       "      <td>&lt;/th&gt;&lt;td&gt;Pop</td>\n",
       "    </tr>\n",
       "  </tbody>\n",
       "</table>\n",
       "</div>"
      ],
      "text/plain": [
       "           Artist            Genre\n",
       "0    ricky nelson       Rockabilly\n",
       "1     perez prado  \"Mambo (music)\"\n",
       "2     bobby darin             Jazz\n",
       "3  elvis presley     Rock and roll\n",
       "4     kalin twins     </th><td>Pop"
      ]
     },
     "execution_count": 62,
     "metadata": {},
     "output_type": "execute_result"
    }
   ],
   "source": [
    "print(len(GenreList), len(ArtistList))\n",
    "ArtistList[\"Genre\"] = GenreList\n",
    "ArtistList.columns = [\"Artist\",\"Genre\"]\n",
    "ArtistList.head()"
   ]
  },
  {
   "cell_type": "markdown",
   "metadata": {},
   "source": [
    "# Clean Up New Genres"
   ]
  },
  {
   "cell_type": "code",
   "execution_count": 64,
   "metadata": {
    "ExecuteTime": {
     "end_time": "2019-06-22T14:41:36.788100Z",
     "start_time": "2019-06-22T14:41:36.778305Z"
    }
   },
   "outputs": [],
   "source": [
    "Rock = ['Rock music','\"Rock music\"','Alternative rock','Pop rock','\"Rock and roll\"','\"Alternative rock\"','Hard rock','Rock and roll','Indie rock','Progressive rock','Heavy metal music','\"Hard rock\"','\"Soft rock\"','Punk rock','Folk rock','\"Folk rock\"','Psychedelic rock','Southern rock','Post-grunge','\"Psychedelic rock\"','Alternative metal','\"Rockabilly\"','\"Punk rock\"','\"Country rock\"','Rockabilly','Art rock','Blues rock','Instrumental rock','\"Indie Rock\"','\"Southern rock\"','\"Garage rock\"','Indie folk','Country rock','Garage rock','\"Heavy metal music\"','Soft rock','Roots rock','Glam metal','Glam rock','Nu metal','Grunge','\"Big band music\"','\"Big band\"','\"Glam metal\"','\"Hard bop\"','\"Progressive rock\"','Emo']\n",
    "Religous = ['\"Gospel music\"','Gospel music','Contemporary Christian music','\"Contemporary Christian music\"','\"Contemporary worship music\"']\n",
    "Reggae = ['\"Reggae\"','Reggae','Reggaeton','Dancehall','Reggae fusion']\n",
    "RnB = ['Contemporary R&amp;B','Rhythm and blues','Funk','R&amp;B','\"Funk\"','</th><td><a href=\"/wiki/Contemporary_R%26B\" title=\"Contemporary R&amp;B\">R&amp;B</a>','Doo-wop','\"Doo Wop\"','Alternative R&amp;B','\"Doo-wop\"','\"Beat music\"','</th><td><a href=\"/wiki/Contemporary_R%26B\" title=\"Contemporary R&amp;B\">R&amp;B</a>, <a href=\"/wiki/Soul_music\" title=\"Soul music\">soul</a>','Rhythm &amp; blues','</th><td><a class=\"mw-redirect\" href=\"/wiki/R%26B\" title=\"R&amp;B\">R&amp;B</a>','</th><td><a href=\"/wiki/Contemporary_R%26B\" title=\"Contemporary R&amp;B\">R&amp;B</a>, <a href=\"/wiki/Hip_hop_music\" title=\"Hip hop music\">Hip hop</a>','</th><td><a href=\"/wiki/Contemporary_R%26B\" title=\"Contemporary R&amp;B\">R&amp;B</a>, <a href=\"/wiki/Soul_music\" title=\"Soul music\">soul</a>, <a href=\"/wiki/Neo_soul\" title=\"Neo soul\">neo soul</a>','</th><td><a href=\"/wiki/Contemporary_R%26B\" title=\"Contemporary R&amp;B\">R&amp;B</a>, <a href=\"/wiki/New_jack_swing\" title=\"New jack swing\">new jack swing</a>']\n",
    "Pop = ['Pop music','\"Pop music\"','\"Pop rock\"','New wave music','K-pop','\"New wave music\"','Traditional pop music','\"Disco\"','Synth-pop','Pop punk','Latin pop','Indie pop','Dance-pop','\"Traditional pop music\"','\"Dance-pop\"','</th><td>Pop','Disco','\"Synth-pop\"','Art pop','Film score','\"Film score\"','\"Popular music\"','Synthpop','Country pop','\"Traditional pop\"','\"Country pop\"','Adult contemporary music','Power pop','Bubblegum pop','Dance music','\"Bubblegum pop\"','\"Sunshine pop\"','\"Ska\"','Traditional pop']\n",
    "HipHop = ['Hip hop music','\"Hip hop music\"','\"Freestyle music\"','West Coast hip hop','Alternative hip hop','Hip hop','Hip hop soul','\"Southern hip hop\"','\"West Coast hip hop\"','Pop-rap','Trip hop','\"Alternative hip hop\"','East Coast hip hop','Korean hip hop','Southern hip hop']\n",
    "Folk = ['Observational comedy','Folk music','\"Folk music\"','\"Latin pop\"','Latin trap','Bachata (music)','Americana (music)','Broadway theatre','Contemporary folk music','\"Americana (music)\"']\n",
    "Electro = ['Electronic dance music','House music','Electropop','\"Eurodance\"','\"House music\"','Electronic music','\"Electronica\"','Electronica','\"Dance music\"','Eurodance','\"Electronic music\"','\"Synthpop\"']\n",
    "Country = ['Easy listening','\"Easy listening\"','Country music','\"Country music\"','Neotraditional country','Neotraditionalist country']\n",
    "Blues = ['\"Rhythm and blues\"','\"Jazz\"','Soul music','\"Soul music\"','Jazz','Blues','\"Blues\"','\"Blues rock\"','Blue-eyed soul','\"Blue-eyed soul\"','Neo soul','\"Chicago soul\"','\"Southern soul\"']"
   ]
  },
  {
   "cell_type": "code",
   "execution_count": 65,
   "metadata": {
    "ExecuteTime": {
     "end_time": "2019-06-22T14:41:39.380848Z",
     "start_time": "2019-06-22T14:41:39.345015Z"
    }
   },
   "outputs": [
    {
     "name": "stdout",
     "output_type": "stream",
     "text": [
      "Error       2541\n",
      "Rock        1185\n",
      "Pop         1064\n",
      "HipHop       856\n",
      "R&B          677\n",
      "Country      547\n",
      "Blues        454\n",
      "Electro      160\n",
      "Folk         109\n",
      "Reggae        76\n",
      "Religous      37\n",
      "Name: GenreClean, dtype: int64\n"
     ]
    },
    {
     "data": {
      "text/html": [
       "<div>\n",
       "<style scoped>\n",
       "    .dataframe tbody tr th:only-of-type {\n",
       "        vertical-align: middle;\n",
       "    }\n",
       "\n",
       "    .dataframe tbody tr th {\n",
       "        vertical-align: top;\n",
       "    }\n",
       "\n",
       "    .dataframe thead th {\n",
       "        text-align: right;\n",
       "    }\n",
       "</style>\n",
       "<table border=\"1\" class=\"dataframe\">\n",
       "  <thead>\n",
       "    <tr style=\"text-align: right;\">\n",
       "      <th></th>\n",
       "      <th>Artist</th>\n",
       "      <th>GenreClean</th>\n",
       "    </tr>\n",
       "  </thead>\n",
       "  <tbody>\n",
       "    <tr>\n",
       "      <th>0</th>\n",
       "      <td>ricky nelson</td>\n",
       "      <td>Rock</td>\n",
       "    </tr>\n",
       "    <tr>\n",
       "      <th>1</th>\n",
       "      <td>perez prado</td>\n",
       "      <td>Error</td>\n",
       "    </tr>\n",
       "    <tr>\n",
       "      <th>2</th>\n",
       "      <td>bobby darin</td>\n",
       "      <td>Blues</td>\n",
       "    </tr>\n",
       "  </tbody>\n",
       "</table>\n",
       "</div>"
      ],
      "text/plain": [
       "         Artist GenreClean\n",
       "0  ricky nelson       Rock\n",
       "1   perez prado      Error\n",
       "2   bobby darin      Blues"
      ]
     },
     "execution_count": 65,
     "metadata": {},
     "output_type": "execute_result"
    }
   ],
   "source": [
    "GenreClean = []\n",
    "\n",
    "for i in ArtistList.Genre:\n",
    "    if i in Rock:\n",
    "        GenreClean.append(\"Rock\")\n",
    "    elif i in Religous:\n",
    "        GenreClean.append(\"Religous\")\n",
    "    elif i in Reggae:\n",
    "        GenreClean.append(\"Reggae\")\n",
    "    elif i in RnB:\n",
    "        GenreClean.append(\"R&B\")\n",
    "    elif i in Pop:\n",
    "        GenreClean.append(\"Pop\")\n",
    "    elif i in HipHop:\n",
    "        GenreClean.append(\"HipHop\")\n",
    "    elif i in Folk:\n",
    "        GenreClean.append(\"Folk\")\n",
    "    elif i in Electro:\n",
    "        GenreClean.append(\"Electro\")\n",
    "    elif i in Country:\n",
    "        GenreClean.append(\"Country\")\n",
    "    elif i in Blues:\n",
    "        GenreClean.append(\"Blues\")\n",
    "    else:\n",
    "        GenreClean.append(\"Error\")\n",
    "\n",
    "ArtistList[\"GenreClean\"] = GenreClean\n",
    "ArtistList = ArtistList.drop(columns = \"Genre\")\n",
    "print(ArtistList.GenreClean.value_counts())\n",
    "ArtistList.head(3)"
   ]
  },
  {
   "cell_type": "markdown",
   "metadata": {},
   "source": [
    "# Pull In Second Genre"
   ]
  },
  {
   "cell_type": "code",
   "execution_count": 77,
   "metadata": {
    "ExecuteTime": {
     "end_time": "2019-06-22T14:47:37.399521Z",
     "start_time": "2019-06-22T14:47:37.179090Z"
    }
   },
   "outputs": [
    {
     "data": {
      "text/html": [
       "<div>\n",
       "<style scoped>\n",
       "    .dataframe tbody tr th:only-of-type {\n",
       "        vertical-align: middle;\n",
       "    }\n",
       "\n",
       "    .dataframe tbody tr th {\n",
       "        vertical-align: top;\n",
       "    }\n",
       "\n",
       "    .dataframe thead th {\n",
       "        text-align: right;\n",
       "    }\n",
       "</style>\n",
       "<table border=\"1\" class=\"dataframe\">\n",
       "  <thead>\n",
       "    <tr style=\"text-align: right;\">\n",
       "      <th>GenresClean</th>\n",
       "      <th>Avant</th>\n",
       "      <th>Blues</th>\n",
       "      <th>Children</th>\n",
       "      <th>Classical</th>\n",
       "      <th>Comedy/Spoken</th>\n",
       "      <th>Country</th>\n",
       "      <th>Easy</th>\n",
       "      <th>Electronic</th>\n",
       "      <th>Error</th>\n",
       "      <th>Folk</th>\n",
       "      <th>...</th>\n",
       "      <th>Jazz</th>\n",
       "      <th>Latin</th>\n",
       "      <th>New</th>\n",
       "      <th>Pop/Rock</th>\n",
       "      <th>R&amp;B</th>\n",
       "      <th>Rap</th>\n",
       "      <th>Reggae</th>\n",
       "      <th>Religious</th>\n",
       "      <th>Stage</th>\n",
       "      <th>Vocal</th>\n",
       "    </tr>\n",
       "    <tr>\n",
       "      <th>GenreClean</th>\n",
       "      <th></th>\n",
       "      <th></th>\n",
       "      <th></th>\n",
       "      <th></th>\n",
       "      <th></th>\n",
       "      <th></th>\n",
       "      <th></th>\n",
       "      <th></th>\n",
       "      <th></th>\n",
       "      <th></th>\n",
       "      <th></th>\n",
       "      <th></th>\n",
       "      <th></th>\n",
       "      <th></th>\n",
       "      <th></th>\n",
       "      <th></th>\n",
       "      <th></th>\n",
       "      <th></th>\n",
       "      <th></th>\n",
       "      <th></th>\n",
       "      <th></th>\n",
       "    </tr>\n",
       "  </thead>\n",
       "  <tbody>\n",
       "    <tr>\n",
       "      <th>Blues</th>\n",
       "      <td>0</td>\n",
       "      <td>694</td>\n",
       "      <td>0</td>\n",
       "      <td>13</td>\n",
       "      <td>0</td>\n",
       "      <td>0</td>\n",
       "      <td>335</td>\n",
       "      <td>51</td>\n",
       "      <td>183</td>\n",
       "      <td>0</td>\n",
       "      <td>...</td>\n",
       "      <td>933</td>\n",
       "      <td>185</td>\n",
       "      <td>0</td>\n",
       "      <td>2509</td>\n",
       "      <td>12790</td>\n",
       "      <td>152</td>\n",
       "      <td>126</td>\n",
       "      <td>0</td>\n",
       "      <td>0</td>\n",
       "      <td>550</td>\n",
       "    </tr>\n",
       "    <tr>\n",
       "      <th>Country</th>\n",
       "      <td>0</td>\n",
       "      <td>19</td>\n",
       "      <td>15</td>\n",
       "      <td>0</td>\n",
       "      <td>32</td>\n",
       "      <td>27280</td>\n",
       "      <td>129</td>\n",
       "      <td>552</td>\n",
       "      <td>158</td>\n",
       "      <td>111</td>\n",
       "      <td>...</td>\n",
       "      <td>52</td>\n",
       "      <td>20</td>\n",
       "      <td>0</td>\n",
       "      <td>2544</td>\n",
       "      <td>265</td>\n",
       "      <td>172</td>\n",
       "      <td>67</td>\n",
       "      <td>20</td>\n",
       "      <td>0</td>\n",
       "      <td>309</td>\n",
       "    </tr>\n",
       "    <tr>\n",
       "      <th>Electro</th>\n",
       "      <td>0</td>\n",
       "      <td>14</td>\n",
       "      <td>0</td>\n",
       "      <td>1</td>\n",
       "      <td>0</td>\n",
       "      <td>0</td>\n",
       "      <td>0</td>\n",
       "      <td>2742</td>\n",
       "      <td>81</td>\n",
       "      <td>14</td>\n",
       "      <td>...</td>\n",
       "      <td>11</td>\n",
       "      <td>0</td>\n",
       "      <td>0</td>\n",
       "      <td>1437</td>\n",
       "      <td>338</td>\n",
       "      <td>122</td>\n",
       "      <td>0</td>\n",
       "      <td>0</td>\n",
       "      <td>0</td>\n",
       "      <td>0</td>\n",
       "    </tr>\n",
       "    <tr>\n",
       "      <th>Error</th>\n",
       "      <td>0</td>\n",
       "      <td>248</td>\n",
       "      <td>38</td>\n",
       "      <td>160</td>\n",
       "      <td>471</td>\n",
       "      <td>2232</td>\n",
       "      <td>976</td>\n",
       "      <td>2416</td>\n",
       "      <td>1418</td>\n",
       "      <td>181</td>\n",
       "      <td>...</td>\n",
       "      <td>925</td>\n",
       "      <td>717</td>\n",
       "      <td>80</td>\n",
       "      <td>24671</td>\n",
       "      <td>11991</td>\n",
       "      <td>5485</td>\n",
       "      <td>237</td>\n",
       "      <td>269</td>\n",
       "      <td>505</td>\n",
       "      <td>2074</td>\n",
       "    </tr>\n",
       "    <tr>\n",
       "      <th>Folk</th>\n",
       "      <td>0</td>\n",
       "      <td>0</td>\n",
       "      <td>0</td>\n",
       "      <td>13</td>\n",
       "      <td>20</td>\n",
       "      <td>40</td>\n",
       "      <td>0</td>\n",
       "      <td>42</td>\n",
       "      <td>42</td>\n",
       "      <td>704</td>\n",
       "      <td>...</td>\n",
       "      <td>0</td>\n",
       "      <td>116</td>\n",
       "      <td>0</td>\n",
       "      <td>1921</td>\n",
       "      <td>130</td>\n",
       "      <td>11</td>\n",
       "      <td>0</td>\n",
       "      <td>16</td>\n",
       "      <td>35</td>\n",
       "      <td>505</td>\n",
       "    </tr>\n",
       "    <tr>\n",
       "      <th>HipHop</th>\n",
       "      <td>26</td>\n",
       "      <td>63</td>\n",
       "      <td>1</td>\n",
       "      <td>0</td>\n",
       "      <td>0</td>\n",
       "      <td>254</td>\n",
       "      <td>80</td>\n",
       "      <td>407</td>\n",
       "      <td>400</td>\n",
       "      <td>0</td>\n",
       "      <td>...</td>\n",
       "      <td>37</td>\n",
       "      <td>0</td>\n",
       "      <td>0</td>\n",
       "      <td>2377</td>\n",
       "      <td>2910</td>\n",
       "      <td>25108</td>\n",
       "      <td>185</td>\n",
       "      <td>25</td>\n",
       "      <td>4</td>\n",
       "      <td>0</td>\n",
       "    </tr>\n",
       "    <tr>\n",
       "      <th>Pop</th>\n",
       "      <td>0</td>\n",
       "      <td>0</td>\n",
       "      <td>100</td>\n",
       "      <td>21</td>\n",
       "      <td>34</td>\n",
       "      <td>810</td>\n",
       "      <td>215</td>\n",
       "      <td>865</td>\n",
       "      <td>499</td>\n",
       "      <td>11</td>\n",
       "      <td>...</td>\n",
       "      <td>244</td>\n",
       "      <td>1237</td>\n",
       "      <td>7</td>\n",
       "      <td>37920</td>\n",
       "      <td>6435</td>\n",
       "      <td>1812</td>\n",
       "      <td>74</td>\n",
       "      <td>99</td>\n",
       "      <td>62</td>\n",
       "      <td>4038</td>\n",
       "    </tr>\n",
       "    <tr>\n",
       "      <th>R&amp;B</th>\n",
       "      <td>0</td>\n",
       "      <td>221</td>\n",
       "      <td>6</td>\n",
       "      <td>3</td>\n",
       "      <td>32</td>\n",
       "      <td>209</td>\n",
       "      <td>39</td>\n",
       "      <td>663</td>\n",
       "      <td>346</td>\n",
       "      <td>393</td>\n",
       "      <td>...</td>\n",
       "      <td>155</td>\n",
       "      <td>416</td>\n",
       "      <td>0</td>\n",
       "      <td>7519</td>\n",
       "      <td>31178</td>\n",
       "      <td>446</td>\n",
       "      <td>7</td>\n",
       "      <td>56</td>\n",
       "      <td>0</td>\n",
       "      <td>350</td>\n",
       "    </tr>\n",
       "    <tr>\n",
       "      <th>Reggae</th>\n",
       "      <td>0</td>\n",
       "      <td>0</td>\n",
       "      <td>0</td>\n",
       "      <td>0</td>\n",
       "      <td>0</td>\n",
       "      <td>15</td>\n",
       "      <td>0</td>\n",
       "      <td>23</td>\n",
       "      <td>89</td>\n",
       "      <td>0</td>\n",
       "      <td>...</td>\n",
       "      <td>4</td>\n",
       "      <td>245</td>\n",
       "      <td>0</td>\n",
       "      <td>546</td>\n",
       "      <td>248</td>\n",
       "      <td>176</td>\n",
       "      <td>977</td>\n",
       "      <td>0</td>\n",
       "      <td>0</td>\n",
       "      <td>0</td>\n",
       "    </tr>\n",
       "    <tr>\n",
       "      <th>Religous</th>\n",
       "      <td>0</td>\n",
       "      <td>13</td>\n",
       "      <td>0</td>\n",
       "      <td>0</td>\n",
       "      <td>0</td>\n",
       "      <td>0</td>\n",
       "      <td>0</td>\n",
       "      <td>0</td>\n",
       "      <td>3</td>\n",
       "      <td>0</td>\n",
       "      <td>...</td>\n",
       "      <td>18</td>\n",
       "      <td>0</td>\n",
       "      <td>0</td>\n",
       "      <td>208</td>\n",
       "      <td>245</td>\n",
       "      <td>0</td>\n",
       "      <td>0</td>\n",
       "      <td>418</td>\n",
       "      <td>0</td>\n",
       "      <td>0</td>\n",
       "    </tr>\n",
       "    <tr>\n",
       "      <th>Rock</th>\n",
       "      <td>0</td>\n",
       "      <td>12</td>\n",
       "      <td>0</td>\n",
       "      <td>5</td>\n",
       "      <td>5</td>\n",
       "      <td>1416</td>\n",
       "      <td>67</td>\n",
       "      <td>439</td>\n",
       "      <td>576</td>\n",
       "      <td>116</td>\n",
       "      <td>...</td>\n",
       "      <td>158</td>\n",
       "      <td>45</td>\n",
       "      <td>0</td>\n",
       "      <td>52737</td>\n",
       "      <td>2213</td>\n",
       "      <td>435</td>\n",
       "      <td>27</td>\n",
       "      <td>143</td>\n",
       "      <td>40</td>\n",
       "      <td>659</td>\n",
       "    </tr>\n",
       "  </tbody>\n",
       "</table>\n",
       "<p>11 rows × 22 columns</p>\n",
       "</div>"
      ],
      "text/plain": [
       "GenresClean  Avant  Blues  Children  Classical  Comedy/Spoken  Country  Easy  \\\n",
       "GenreClean                                                                     \n",
       "Blues            0    694         0         13              0        0   335   \n",
       "Country          0     19        15          0             32    27280   129   \n",
       "Electro          0     14         0          1              0        0     0   \n",
       "Error            0    248        38        160            471     2232   976   \n",
       "Folk             0      0         0         13             20       40     0   \n",
       "HipHop          26     63         1          0              0      254    80   \n",
       "Pop              0      0       100         21             34      810   215   \n",
       "R&B              0    221         6          3             32      209    39   \n",
       "Reggae           0      0         0          0              0       15     0   \n",
       "Religous         0     13         0          0              0        0     0   \n",
       "Rock             0     12         0          5              5     1416    67   \n",
       "\n",
       "GenresClean  Electronic  Error  Folk  ...  Jazz  Latin  New  Pop/Rock    R&B  \\\n",
       "GenreClean                            ...                                      \n",
       "Blues                51    183     0  ...   933    185    0      2509  12790   \n",
       "Country             552    158   111  ...    52     20    0      2544    265   \n",
       "Electro            2742     81    14  ...    11      0    0      1437    338   \n",
       "Error              2416   1418   181  ...   925    717   80     24671  11991   \n",
       "Folk                 42     42   704  ...     0    116    0      1921    130   \n",
       "HipHop              407    400     0  ...    37      0    0      2377   2910   \n",
       "Pop                 865    499    11  ...   244   1237    7     37920   6435   \n",
       "R&B                 663    346   393  ...   155    416    0      7519  31178   \n",
       "Reggae               23     89     0  ...     4    245    0       546    248   \n",
       "Religous              0      3     0  ...    18      0    0       208    245   \n",
       "Rock                439    576   116  ...   158     45    0     52737   2213   \n",
       "\n",
       "GenresClean    Rap  Reggae  Religious  Stage  Vocal  \n",
       "GenreClean                                           \n",
       "Blues          152     126          0      0    550  \n",
       "Country        172      67         20      0    309  \n",
       "Electro        122       0          0      0      0  \n",
       "Error         5485     237        269    505   2074  \n",
       "Folk            11       0         16     35    505  \n",
       "HipHop       25108     185         25      4      0  \n",
       "Pop           1812      74         99     62   4038  \n",
       "R&B            446       7         56      0    350  \n",
       "Reggae         176     977          0      0      0  \n",
       "Religous         0       0        418      0      0  \n",
       "Rock           435      27        143     40    659  \n",
       "\n",
       "[11 rows x 22 columns]"
      ]
     },
     "execution_count": 77,
     "metadata": {},
     "output_type": "execute_result"
    }
   ],
   "source": [
    "Data = Data.merge(ArtistList, how = \"left\", left_on = \"ArtistClean\", right_on = \"Artist\")\n",
    "pd.crosstab(Data.GenreClean, Data.GenresClean)"
   ]
  },
  {
   "cell_type": "markdown",
   "metadata": {},
   "source": [
    "# View Distribution And Errors Of Genres"
   ]
  },
  {
   "cell_type": "code",
   "execution_count": 80,
   "metadata": {
    "ExecuteTime": {
     "end_time": "2019-06-22T14:48:09.022885Z",
     "start_time": "2019-06-22T14:48:08.993879Z"
    }
   },
   "outputs": [
    {
     "data": {
      "text/plain": [
       "Rock        59103\n",
       "Error       55272\n",
       "Pop         54563\n",
       "R&B         42058\n",
       "HipHop      31877\n",
       "Country     31828\n",
       "Blues       18529\n",
       "Electro      4767\n",
       "Folk         3611\n",
       "Reggae       2326\n",
       "Religous      905\n",
       "Name: GenreClean, dtype: int64"
      ]
     },
     "execution_count": 80,
     "metadata": {},
     "output_type": "execute_result"
    }
   ],
   "source": [
    "Data.GenreClean.value_counts()"
   ]
  },
  {
   "cell_type": "code",
   "execution_count": 81,
   "metadata": {
    "ExecuteTime": {
     "end_time": "2019-06-22T14:48:26.983334Z",
     "start_time": "2019-06-22T14:48:26.951736Z"
    }
   },
   "outputs": [
    {
     "data": {
      "text/plain": [
       "Pop/Rock         134458\n",
       "R&B               68743\n",
       "Rap               33931\n",
       "Country           32256\n",
       "Vocal              8485\n",
       "Electronic         8200\n",
       "Error              4660\n",
       "Latin              2981\n",
       "Jazz               2537\n",
       "Easy               1841\n",
       "Reggae             1700\n",
       "Folk               1530\n",
       "Blues              1284\n",
       "Religious          1046\n",
       "Stage               646\n",
       "Comedy/Spoken       594\n",
       "International       391\n",
       "Classical           216\n",
       "Children            160\n",
       "New                  87\n",
       "Avant                26\n",
       "Holiday              13\n",
       "Name: GenresClean, dtype: int64"
      ]
     },
     "execution_count": 81,
     "metadata": {},
     "output_type": "execute_result"
    }
   ],
   "source": [
    "Data.GenresClean.value_counts()"
   ]
  },
  {
   "cell_type": "markdown",
   "metadata": {},
   "source": [
    "# Tidy Instrumental Lyrics"
   ]
  },
  {
   "cell_type": "code",
   "execution_count": 88,
   "metadata": {
    "ExecuteTime": {
     "end_time": "2019-06-22T14:53:10.190626Z",
     "start_time": "2019-06-22T14:53:09.829824Z"
    }
   },
   "outputs": [],
   "source": [
    "LyricsClean = []\n",
    "for i in Data.LyricsClean:\n",
    "    if (len(str(i)) < 30) & (len(str(i))>5):\n",
    "        LyricsClean.append(\"Instrumental\")\n",
    "    elif len(str(i)) <= 5:\n",
    "        LyricsClean.append(\"Error\")\n",
    "    else:\n",
    "        LyricsClean.append(i)\n",
    "\n",
    "Data[\"Lyrics\"] = LyricsClean"
   ]
  },
  {
   "cell_type": "markdown",
   "metadata": {},
   "source": [
    "# Tidy Data Frame"
   ]
  },
  {
   "cell_type": "code",
   "execution_count": 97,
   "metadata": {
    "ExecuteTime": {
     "end_time": "2019-06-22T15:04:10.848754Z",
     "start_time": "2019-06-22T15:04:10.659883Z"
    }
   },
   "outputs": [
    {
     "data": {
      "text/html": [
       "<div>\n",
       "<style scoped>\n",
       "    .dataframe tbody tr th:only-of-type {\n",
       "        vertical-align: middle;\n",
       "    }\n",
       "\n",
       "    .dataframe tbody tr th {\n",
       "        vertical-align: top;\n",
       "    }\n",
       "\n",
       "    .dataframe thead th {\n",
       "        text-align: right;\n",
       "    }\n",
       "</style>\n",
       "<table border=\"1\" class=\"dataframe\">\n",
       "  <thead>\n",
       "    <tr style=\"text-align: right;\">\n",
       "      <th></th>\n",
       "      <th>Rank</th>\n",
       "      <th>Date</th>\n",
       "      <th>Track</th>\n",
       "      <th>Artist1</th>\n",
       "      <th>Artist2</th>\n",
       "      <th>Genre1</th>\n",
       "      <th>Genre2</th>\n",
       "      <th>LyricsOriginal</th>\n",
       "      <th>LyricsClean</th>\n",
       "    </tr>\n",
       "  </thead>\n",
       "  <tbody>\n",
       "    <tr>\n",
       "      <th>0</th>\n",
       "      <td>1.0</td>\n",
       "      <td>1958-08-04</td>\n",
       "      <td>Poor Little Fool</td>\n",
       "      <td>Ricky Nelson</td>\n",
       "      <td>Ricky Nelson</td>\n",
       "      <td>Pop/Rock</td>\n",
       "      <td>Rock</td>\n",
       "      <td>I used to play around with hearts that hastene...</td>\n",
       "      <td>I used to play around with hearts that hastene...</td>\n",
       "    </tr>\n",
       "    <tr>\n",
       "      <th>1</th>\n",
       "      <td>2.0</td>\n",
       "      <td>1958-08-04</td>\n",
       "      <td>Patricia</td>\n",
       "      <td>Perez Prado And His Orchestra</td>\n",
       "      <td>Perez Prado</td>\n",
       "      <td>Latin</td>\n",
       "      <td>NaN</td>\n",
       "      <td>Instrumental, NO LYRICS</td>\n",
       "      <td>Instrumental</td>\n",
       "    </tr>\n",
       "    <tr>\n",
       "      <th>2</th>\n",
       "      <td>3.0</td>\n",
       "      <td>1958-08-04</td>\n",
       "      <td>Splish Splash</td>\n",
       "      <td>Bobby Darin</td>\n",
       "      <td>Bobby Darin</td>\n",
       "      <td>Pop/Rock</td>\n",
       "      <td>Blues</td>\n",
       "      <td>splish splash I was taking a bath long about a...</td>\n",
       "      <td>splish splash I was taking a bath long about a...</td>\n",
       "    </tr>\n",
       "    <tr>\n",
       "      <th>3</th>\n",
       "      <td>4.0</td>\n",
       "      <td>1958-08-04</td>\n",
       "      <td>Hard Headed Woman</td>\n",
       "      <td>Elvis Presley With The Jordanaires</td>\n",
       "      <td>Elvis Presley</td>\n",
       "      <td>Pop/Rock</td>\n",
       "      <td>Rock</td>\n",
       "      <td>Well a hard headed woman, A soft hearted man B...</td>\n",
       "      <td>Well a hard headed woman, A soft hearted man B...</td>\n",
       "    </tr>\n",
       "    <tr>\n",
       "      <th>4</th>\n",
       "      <td>5.0</td>\n",
       "      <td>1958-08-04</td>\n",
       "      <td>When</td>\n",
       "      <td>Kalin Twins</td>\n",
       "      <td>Kalin Twins</td>\n",
       "      <td>Pop/Rock</td>\n",
       "      <td>Pop</td>\n",
       "      <td>NaN</td>\n",
       "      <td>NaN</td>\n",
       "    </tr>\n",
       "  </tbody>\n",
       "</table>\n",
       "</div>"
      ],
      "text/plain": [
       "   Rank        Date              Track                             Artist1  \\\n",
       "0   1.0  1958-08-04   Poor Little Fool                        Ricky Nelson   \n",
       "1   2.0  1958-08-04           Patricia       Perez Prado And His Orchestra   \n",
       "2   3.0  1958-08-04      Splish Splash                         Bobby Darin   \n",
       "3   4.0  1958-08-04  Hard Headed Woman  Elvis Presley With The Jordanaires   \n",
       "4   5.0  1958-08-04               When                         Kalin Twins   \n",
       "\n",
       "          Artist2    Genre1 Genre2  \\\n",
       "0    Ricky Nelson  Pop/Rock   Rock   \n",
       "1     Perez Prado     Latin    NaN   \n",
       "2     Bobby Darin  Pop/Rock  Blues   \n",
       "3  Elvis Presley   Pop/Rock   Rock   \n",
       "4     Kalin Twins  Pop/Rock    Pop   \n",
       "\n",
       "                                      LyricsOriginal  \\\n",
       "0  I used to play around with hearts that hastene...   \n",
       "1                            Instrumental, NO LYRICS   \n",
       "2  splish splash I was taking a bath long about a...   \n",
       "3  Well a hard headed woman, A soft hearted man B...   \n",
       "4                                                NaN   \n",
       "\n",
       "                                         LyricsClean  \n",
       "0  I used to play around with hearts that hastene...  \n",
       "1                                       Instrumental  \n",
       "2  splish splash I was taking a bath long about a...  \n",
       "3  Well a hard headed woman, A soft hearted man B...  \n",
       "4                                                NaN  "
      ]
     },
     "execution_count": 97,
     "metadata": {},
     "output_type": "execute_result"
    }
   ],
   "source": [
    "Data = Data.drop(columns = \"Artist_y\")\n",
    "Data.columns = [\"Track\",\"Artist1\",\"Rank\",\"Date\",\"Genre1\",\"LyricsOriginal\",\"Artist2\",\"Genre2\",\"LyricsClean\"]\n",
    "Data = Data[[\"Rank\",\"Date\",\"Track\",\"Artist1\",\"Artist2\",\"Genre1\",\"Genre2\",\"LyricsOriginal\",\"LyricsClean\"]]\n",
    "Data = Data.replace(\"Error\",np.nan)\n",
    "Data.Artist2 = [str(i).title() for i in Data.Artist2]\n",
    "Data.head()"
   ]
  },
  {
   "cell_type": "code",
   "execution_count": 98,
   "metadata": {
    "ExecuteTime": {
     "end_time": "2019-06-22T15:05:01.936829Z",
     "start_time": "2019-06-22T15:05:01.738231Z"
    },
    "scrolled": true
   },
   "outputs": [
    {
     "name": "stdout",
     "output_type": "stream",
     "text": [
      "305785 301125 249567 213094 176042\n"
     ]
    }
   ],
   "source": [
    "print(Data.shape[0], Data.Genre1.count(), Data.Genre2.count(), Data.LyricsClean.count(), Data.dropna().shape[0])\n",
    "print(Data.Artist2[Data.Rank <= 3].value_counts())"
   ]
  },
  {
   "cell_type": "markdown",
   "metadata": {},
   "source": [
    "# Output Fully Cleaned Dataset For Modelling"
   ]
  },
  {
   "cell_type": "code",
   "execution_count": 103,
   "metadata": {
    "ExecuteTime": {
     "end_time": "2019-06-22T15:09:26.089360Z",
     "start_time": "2019-06-22T15:09:07.321678Z"
    }
   },
   "outputs": [],
   "source": [
    "Data.to_csv(\"CleanData.csv\")"
   ]
  }
 ],
 "metadata": {
  "kernelspec": {
   "display_name": "Python 3",
   "language": "python",
   "name": "python3"
  },
  "language_info": {
   "codemirror_mode": {
    "name": "ipython",
    "version": 3
   },
   "file_extension": ".py",
   "mimetype": "text/x-python",
   "name": "python",
   "nbconvert_exporter": "python",
   "pygments_lexer": "ipython3",
   "version": "3.7.3"
  },
  "varInspector": {
   "cols": {
    "lenName": 16,
    "lenType": 16,
    "lenVar": 40
   },
   "kernels_config": {
    "python": {
     "delete_cmd_postfix": "",
     "delete_cmd_prefix": "del ",
     "library": "var_list.py",
     "varRefreshCmd": "print(var_dic_list())"
    },
    "r": {
     "delete_cmd_postfix": ") ",
     "delete_cmd_prefix": "rm(",
     "library": "var_list.r",
     "varRefreshCmd": "cat(var_dic_list()) "
    }
   },
   "types_to_exclude": [
    "module",
    "function",
    "builtin_function_or_method",
    "instance",
    "_Feature"
   ],
   "window_display": false
  }
 },
 "nbformat": 4,
 "nbformat_minor": 2
}
