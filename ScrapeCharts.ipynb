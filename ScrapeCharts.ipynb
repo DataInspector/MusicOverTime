{
 "cells": [
  {
   "cell_type": "markdown",
   "metadata": {},
   "source": [
    "# Import Packages"
   ]
  },
  {
   "cell_type": "code",
   "execution_count": null,
   "metadata": {
    "ExecuteTime": {
     "end_time": "2019-05-21T13:34:15.695805Z",
     "start_time": "2019-05-21T13:34:15.692801Z"
    }
   },
   "outputs": [],
   "source": [
    "import requests\n",
    "from bs4 import BeautifulSoup\n",
    "import pandas as pd\n",
    "import numpy as np\n",
    "import re\n",
    "import datetime"
   ]
  },
  {
   "cell_type": "markdown",
   "metadata": {},
   "source": [
    "# Produce List Of Dates For Webscrape"
   ]
  },
  {
   "cell_type": "code",
   "execution_count": null,
   "metadata": {
    "ExecuteTime": {
     "end_time": "2019-05-21T13:34:16.531447Z",
     "start_time": "2019-05-21T13:34:16.499654Z"
    }
   },
   "outputs": [],
   "source": [
    "DateList = []\n",
    "temp = datetime.date(1958,8,4)\n",
    "DateList.append(temp) \n",
    "while temp < datetime.date.today():\n",
    "    temp = temp + datetime.timedelta(days=7)\n",
    "    DateList.append(str(temp))\n",
    "print(DateList[1])"
   ]
  },
  {
   "cell_type": "markdown",
   "metadata": {},
   "source": [
    "# Define Function To Pull Data & Organise In To Data Frame"
   ]
  },
  {
   "cell_type": "code",
   "execution_count": null,
   "metadata": {
    "ExecuteTime": {
     "end_time": "2019-05-21T13:34:17.335712Z",
     "start_time": "2019-05-21T13:34:17.329597Z"
    }
   },
   "outputs": [],
   "source": [
    "def Scrape(Date,Website):\n",
    "    r=requests.get(str(Website))\n",
    "    Data = BeautifulSoup(r.text,\"html.parser\")\n",
    "    ArtistList = []\n",
    "    for i in Data.find_all(class_=\"chart-list-item__artist\"):\n",
    "        ArtistList.append(re.search(\".*(?=\\n\\s*</a>)|.*(?=[^</a>]</div>)\",str(i))[0])\n",
    "    TrackList = []\n",
    "    for i in Data.find_all(class_=\"chart-list-item__title-text\"):\n",
    "        TrackList.append(re.search(\".*(?=\\n*</span>)\",str(i))[0])\n",
    "    Output = pd.DataFrame({\"Track\": TrackList,\n",
    "                           \"Artist\": ArtistList,\n",
    "                           \"Rank\": list(range(1, len(TrackList)+1)),\n",
    "                           \"Date\": str(Date)})\n",
    "    return(Output)"
   ]
  },
  {
   "cell_type": "markdown",
   "metadata": {},
   "source": [
    "# Run Function For All Dates & Store In List"
   ]
  },
  {
   "cell_type": "code",
   "execution_count": null,
   "metadata": {
    "ExecuteTime": {
     "end_time": "2019-05-21T15:28:50.635428Z",
     "start_time": "2019-05-21T13:36:45.756339Z"
    }
   },
   "outputs": [],
   "source": [
    "DataFrameList = []\n",
    "for j, i in enumerate(DateList):\n",
    "    try:\n",
    "        DataFrameList.append(Scrape(str(i),\"https://www.billboard.com/charts/hot-100/\"+str(i)+\"/\"))\n",
    "        print(str(i)+\" - \"+str(j)+\" Out Of \",str(len(DateList)))\n",
    "    except:\n",
    "        print(str(i) + \"- Error\")\n",
    "        pass"
   ]
  },
  {
   "cell_type": "markdown",
   "metadata": {},
   "source": [
    "# Join All Data Frames Together"
   ]
  },
  {
   "cell_type": "code",
   "execution_count": null,
   "metadata": {
    "ExecuteTime": {
     "end_time": "2019-05-25T16:14:20.607293Z",
     "start_time": "2019-05-25T16:14:20.550250Z"
    }
   },
   "outputs": [],
   "source": [
    "Data = DataFrameList[0]\n",
    "for j, i in enumerate(DataFrameList):\n",
    "    Data = pd.concat([Data,i])\n",
    "    print(j)"
   ]
  },
  {
   "cell_type": "markdown",
   "metadata": {},
   "source": [
    "# Output Data Frame As CSV"
   ]
  },
  {
   "cell_type": "code",
   "execution_count": null,
   "metadata": {
    "ExecuteTime": {
     "end_time": "2019-05-21T15:55:55.197313Z",
     "start_time": "2019-05-21T15:55:53.591351Z"
    }
   },
   "outputs": [],
   "source": [
    "Data.shape\n",
    "Data.to_csv(\"TopChartSongs.csv\", index = False)"
   ]
  }
 ],
 "metadata": {
  "kernelspec": {
   "display_name": "Python 3",
   "language": "python",
   "name": "python3"
  },
  "language_info": {
   "codemirror_mode": {
    "name": "ipython",
    "version": 3
   },
   "file_extension": ".py",
   "mimetype": "text/x-python",
   "name": "python",
   "nbconvert_exporter": "python",
   "pygments_lexer": "ipython3",
   "version": "3.7.3"
  },
  "varInspector": {
   "cols": {
    "lenName": 16,
    "lenType": 16,
    "lenVar": 40
   },
   "kernels_config": {
    "python": {
     "delete_cmd_postfix": "",
     "delete_cmd_prefix": "del ",
     "library": "var_list.py",
     "varRefreshCmd": "print(var_dic_list())"
    },
    "r": {
     "delete_cmd_postfix": ") ",
     "delete_cmd_prefix": "rm(",
     "library": "var_list.r",
     "varRefreshCmd": "cat(var_dic_list()) "
    }
   },
   "types_to_exclude": [
    "module",
    "function",
    "builtin_function_or_method",
    "instance",
    "_Feature"
   ],
   "window_display": false
  }
 },
 "nbformat": 4,
 "nbformat_minor": 2
}
