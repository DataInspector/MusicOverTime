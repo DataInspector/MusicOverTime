{
 "cells": [
  {
   "cell_type": "markdown",
   "metadata": {},
   "source": [
    "# Import Packages"
   ]
  },
  {
   "cell_type": "code",
   "execution_count": 1,
   "metadata": {
    "ExecuteTime": {
     "end_time": "2019-06-23T14:20:54.080400Z",
     "start_time": "2019-06-23T14:20:51.933Z"
    }
   },
   "outputs": [
    {
     "name": "stderr",
     "output_type": "stream",
     "text": [
      "Loading required package: NLP\n"
     ]
    }
   ],
   "source": [
    "#devtools::install_github(\"lchiffon/wordcloud2\", force = TRUE)\n",
    "#install.packages(\"tm\")\n",
    "#install.packages(\"SnowballC\")\n",
    "\n",
    "library(wordcloud2)\n",
    "library(tm)\n",
    "library(SnowballC)\n",
    "library(tidyverse)"
   ]
  },
  {
   "cell_type": "markdown",
   "metadata": {},
   "source": [
    "# Produce Word Frequency Matricies For Each Genre"
   ]
  },
  {
   "cell_type": "code",
   "execution_count": 5,
   "metadata": {
    "ExecuteTime": {
     "end_time": "2019-06-23T14:28:35.086658Z",
     "start_time": "2019-06-23T14:24:31.247Z"
    },
    "scrolled": false
   },
   "outputs": [
    {
     "name": "stdout",
     "output_type": "stream",
     "text": [
      "[1] \"Blues\"\n"
     ]
    },
    {
     "name": "stderr",
     "output_type": "stream",
     "text": [
      "Warning message in tm_map.SimpleCorpus(Document, content_transformer(tolower)):\n",
      "“transformation drops documents”Warning message in tm_map.SimpleCorpus(Document, removeNumbers):\n",
      "“transformation drops documents”Warning message in tm_map.SimpleCorpus(Document, removeWords, stopwords(\"english\")):\n",
      "“transformation drops documents”Warning message in tm_map.SimpleCorpus(Document, removeWords, c(\"know\", \"just\", :\n",
      "“transformation drops documents”Warning message in tm_map.SimpleCorpus(Document, removePunctuation):\n",
      "“transformation drops documents”Warning message in tm_map.SimpleCorpus(Document, stripWhitespace):\n",
      "“transformation drops documents”"
     ]
    },
    {
     "name": "stdout",
     "output_type": "stream",
     "text": [
      "[1] \"Pop\"\n"
     ]
    },
    {
     "name": "stderr",
     "output_type": "stream",
     "text": [
      "Warning message in tm_map.SimpleCorpus(Document, content_transformer(tolower)):\n",
      "“transformation drops documents”Warning message in tm_map.SimpleCorpus(Document, removeNumbers):\n",
      "“transformation drops documents”Warning message in tm_map.SimpleCorpus(Document, removeWords, stopwords(\"english\")):\n",
      "“transformation drops documents”Warning message in tm_map.SimpleCorpus(Document, removeWords, c(\"know\", \"just\", :\n",
      "“transformation drops documents”Warning message in tm_map.SimpleCorpus(Document, removePunctuation):\n",
      "“transformation drops documents”Warning message in tm_map.SimpleCorpus(Document, stripWhitespace):\n",
      "“transformation drops documents”"
     ]
    },
    {
     "name": "stdout",
     "output_type": "stream",
     "text": [
      "[1] \"HipHop\"\n"
     ]
    },
    {
     "name": "stderr",
     "output_type": "stream",
     "text": [
      "Warning message in tm_map.SimpleCorpus(Document, content_transformer(tolower)):\n",
      "“transformation drops documents”Warning message in tm_map.SimpleCorpus(Document, removeNumbers):\n",
      "“transformation drops documents”Warning message in tm_map.SimpleCorpus(Document, removeWords, stopwords(\"english\")):\n",
      "“transformation drops documents”Warning message in tm_map.SimpleCorpus(Document, removeWords, c(\"know\", \"just\", :\n",
      "“transformation drops documents”Warning message in tm_map.SimpleCorpus(Document, removePunctuation):\n",
      "“transformation drops documents”Warning message in tm_map.SimpleCorpus(Document, stripWhitespace):\n",
      "“transformation drops documents”"
     ]
    },
    {
     "name": "stdout",
     "output_type": "stream",
     "text": [
      "[1] \"R&B\"\n"
     ]
    },
    {
     "name": "stderr",
     "output_type": "stream",
     "text": [
      "Warning message in tm_map.SimpleCorpus(Document, content_transformer(tolower)):\n",
      "“transformation drops documents”Warning message in tm_map.SimpleCorpus(Document, removeNumbers):\n",
      "“transformation drops documents”Warning message in tm_map.SimpleCorpus(Document, removeWords, stopwords(\"english\")):\n",
      "“transformation drops documents”Warning message in tm_map.SimpleCorpus(Document, removeWords, c(\"know\", \"just\", :\n",
      "“transformation drops documents”Warning message in tm_map.SimpleCorpus(Document, removePunctuation):\n",
      "“transformation drops documents”Warning message in tm_map.SimpleCorpus(Document, stripWhitespace):\n",
      "“transformation drops documents”"
     ]
    },
    {
     "name": "stdout",
     "output_type": "stream",
     "text": [
      "[1] \"Country\"\n"
     ]
    },
    {
     "name": "stderr",
     "output_type": "stream",
     "text": [
      "Warning message in tm_map.SimpleCorpus(Document, content_transformer(tolower)):\n",
      "“transformation drops documents”Warning message in tm_map.SimpleCorpus(Document, removeNumbers):\n",
      "“transformation drops documents”Warning message in tm_map.SimpleCorpus(Document, removeWords, stopwords(\"english\")):\n",
      "“transformation drops documents”Warning message in tm_map.SimpleCorpus(Document, removeWords, c(\"know\", \"just\", :\n",
      "“transformation drops documents”Warning message in tm_map.SimpleCorpus(Document, removePunctuation):\n",
      "“transformation drops documents”Warning message in tm_map.SimpleCorpus(Document, stripWhitespace):\n",
      "“transformation drops documents”"
     ]
    },
    {
     "name": "stdout",
     "output_type": "stream",
     "text": [
      "[1] \"Folk\"\n"
     ]
    },
    {
     "name": "stderr",
     "output_type": "stream",
     "text": [
      "Warning message in tm_map.SimpleCorpus(Document, content_transformer(tolower)):\n",
      "“transformation drops documents”Warning message in tm_map.SimpleCorpus(Document, removeNumbers):\n",
      "“transformation drops documents”Warning message in tm_map.SimpleCorpus(Document, removeWords, stopwords(\"english\")):\n",
      "“transformation drops documents”Warning message in tm_map.SimpleCorpus(Document, removeWords, c(\"know\", \"just\", :\n",
      "“transformation drops documents”Warning message in tm_map.SimpleCorpus(Document, removePunctuation):\n",
      "“transformation drops documents”Warning message in tm_map.SimpleCorpus(Document, stripWhitespace):\n",
      "“transformation drops documents”"
     ]
    },
    {
     "name": "stdout",
     "output_type": "stream",
     "text": [
      "[1] \"Reggae\"\n"
     ]
    },
    {
     "name": "stderr",
     "output_type": "stream",
     "text": [
      "Warning message in tm_map.SimpleCorpus(Document, content_transformer(tolower)):\n",
      "“transformation drops documents”Warning message in tm_map.SimpleCorpus(Document, removeNumbers):\n",
      "“transformation drops documents”Warning message in tm_map.SimpleCorpus(Document, removeWords, stopwords(\"english\")):\n",
      "“transformation drops documents”Warning message in tm_map.SimpleCorpus(Document, removeWords, c(\"know\", \"just\", :\n",
      "“transformation drops documents”Warning message in tm_map.SimpleCorpus(Document, removePunctuation):\n",
      "“transformation drops documents”Warning message in tm_map.SimpleCorpus(Document, stripWhitespace):\n",
      "“transformation drops documents”"
     ]
    },
    {
     "name": "stdout",
     "output_type": "stream",
     "text": [
      "[1] \"Electro\"\n"
     ]
    },
    {
     "name": "stderr",
     "output_type": "stream",
     "text": [
      "Warning message in tm_map.SimpleCorpus(Document, content_transformer(tolower)):\n",
      "“transformation drops documents”Warning message in tm_map.SimpleCorpus(Document, removeNumbers):\n",
      "“transformation drops documents”Warning message in tm_map.SimpleCorpus(Document, removeWords, stopwords(\"english\")):\n",
      "“transformation drops documents”Warning message in tm_map.SimpleCorpus(Document, removeWords, c(\"know\", \"just\", :\n",
      "“transformation drops documents”Warning message in tm_map.SimpleCorpus(Document, removePunctuation):\n",
      "“transformation drops documents”Warning message in tm_map.SimpleCorpus(Document, stripWhitespace):\n",
      "“transformation drops documents”"
     ]
    },
    {
     "name": "stdout",
     "output_type": "stream",
     "text": [
      "[1] \"Religous\"\n"
     ]
    },
    {
     "name": "stderr",
     "output_type": "stream",
     "text": [
      "Warning message in tm_map.SimpleCorpus(Document, content_transformer(tolower)):\n",
      "“transformation drops documents”Warning message in tm_map.SimpleCorpus(Document, removeNumbers):\n",
      "“transformation drops documents”Warning message in tm_map.SimpleCorpus(Document, removeWords, stopwords(\"english\")):\n",
      "“transformation drops documents”Warning message in tm_map.SimpleCorpus(Document, removeWords, c(\"know\", \"just\", :\n",
      "“transformation drops documents”Warning message in tm_map.SimpleCorpus(Document, removePunctuation):\n",
      "“transformation drops documents”Warning message in tm_map.SimpleCorpus(Document, stripWhitespace):\n",
      "“transformation drops documents”"
     ]
    }
   ],
   "source": [
    "Data <- read.csv(\"CleanData.csv\")\n",
    "\n",
    "for (i in unique(Data$Genre2)[!unique(Data$Genre2) %in% c(\"\",\"Error\")]){\n",
    "  \n",
    "  print(i)\n",
    "    \n",
    "  #rm(list=ls())\n",
    "  Data <- read.csv(\"CleanData.csv\")\n",
    "  Data <- Data[2:ncol(Data)]\n",
    "\n",
    "  Document <- Corpus(VectorSource(Data$LyricsClean[Data$Genre2 == i]))\n",
    "  \n",
    "  Document <- tm_map(Document, content_transformer(tolower))\n",
    "  Document <- tm_map(Document, removeNumbers)\n",
    "  Document <- tm_map(Document, removeWords, stopwords(\"english\"))\n",
    "  \n",
    "  Document <- tm_map(Document, removeWords, c(\"know\", \"just\", \"can\", \"chorus\", \"verse\", \"get\", \"got\", \"will\", \"much\", \"well\", \"keep\", \"let\", \"see\", \"tell\", \"take\")) \n",
    "  \n",
    "  Document <- tm_map(Document, removePunctuation)\n",
    "  Document <- tm_map(Document, stripWhitespace)\n",
    "  \n",
    "  # Document <- tm_map(Document, stemDocument)\n",
    "  \n",
    "  rm(Data)\n",
    "  \n",
    "  Document <- sort(rowSums(as.matrix(TermDocumentMatrix(Document))),decreasing=TRUE)\n",
    "  Document <- data.frame(Word = names(Document), Freq = Document)\n",
    "  \n",
    "  write.csv(Document,paste(i,\".csv\", sep = \"\"))\n",
    "\n",
    "}\n",
    "\n",
    "\n",
    "#wordcloud2(Document, color = \"Brown\",  backgroundColor = \"White\", figPath = \"/Users/Harib/OneDrive/Pictures/Music/Country.png\")"
   ]
  }
 ],
 "metadata": {
  "kernelspec": {
   "display_name": "R",
   "language": "R",
   "name": "ir"
  },
  "language_info": {
   "codemirror_mode": "r",
   "file_extension": ".r",
   "mimetype": "text/x-r-source",
   "name": "R",
   "pygments_lexer": "r",
   "version": "3.6.0"
  }
 },
 "nbformat": 4,
 "nbformat_minor": 2
}
