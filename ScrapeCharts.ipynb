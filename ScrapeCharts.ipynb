{
 "cells": [
  {
   "cell_type": "code",
   "execution_count": 1,
   "metadata": {
    "ExecuteTime": {
     "end_time": "2019-05-20T21:24:40.922910Z",
     "start_time": "2019-05-20T21:24:40.474298Z"
    }
   },
   "outputs": [],
   "source": [
    "import requests\n",
    "from bs4 import BeautifulSoup\n",
    "import pandas as pd\n",
    "import numpy as np\n",
    "import re\n",
    "import datetime"
   ]
  },
  {
   "cell_type": "code",
   "execution_count": 9,
   "metadata": {
    "ExecuteTime": {
     "end_time": "2019-05-20T21:26:09.338185Z",
     "start_time": "2019-05-20T21:26:09.319658Z"
    }
   },
   "outputs": [
    {
     "data": {
      "text/plain": [
       "'https://www.billboard.com/charts/hot-100/1958-08-11/'"
      ]
     },
     "execution_count": 9,
     "metadata": {},
     "output_type": "execute_result"
    }
   ],
   "source": [
    "DateList = []\n",
    "temp = datetime.date(1958,8,4)\n",
    "DateList.append(temp)\n",
    "while temp < datetime.date.today():\n",
    "    temp = temp + datetime.timedelta(days=7)\n",
    "    DateList.append(str(temp))\n",
    "\n",
    "temp = \"https://www.billboard.com/charts/hot-100/\"+str(DateList[1])+\"/\"\n",
    "temp"
   ]
  },
  {
   "cell_type": "code",
   "execution_count": 3,
   "metadata": {
    "ExecuteTime": {
     "end_time": "2019-05-20T21:24:40.956841Z",
     "start_time": "2019-05-20T21:24:40.950873Z"
    }
   },
   "outputs": [],
   "source": [
    "def Scrape(Website):\n",
    "    r=requests.get(str(Website))\n",
    "    Data = BeautifulSoup(r.text,\"html.parser\")\n",
    "    ArtistList = []\n",
    "    for i in Data.find_all(class_=\"chart-list-item__artist\"):\n",
    "        ArtistList.append(re.search(\".*(?=\\n\\s*</a>)|.*(?=[^</a>]</div>)\",str(i))[0])\n",
    "    TrackList = []\n",
    "    for i in Data.find_all(class_=\"chart-list-item__title-text\"):\n",
    "        TrackList.append(re.search(\".*(?=\\n*</span>)\",str(i))[0])\n",
    "    Output = pd.DataFrame({\"Track\": TrackList,\n",
    "                           \"Artist\": ArtistList,\n",
    "                           \"Rank\": list(range(1, 101))})\n",
    "    return(Output)"
   ]
  },
  {
   "cell_type": "code",
   "execution_count": null,
   "metadata": {},
   "outputs": [],
   "source": [
    "Scrape(temp)"
   ]
  }
 ],
 "metadata": {
  "kernelspec": {
   "display_name": "Python 3",
   "language": "python",
   "name": "python3"
  },
  "language_info": {
   "codemirror_mode": {
    "name": "ipython",
    "version": 3
   },
   "file_extension": ".py",
   "mimetype": "text/x-python",
   "name": "python",
   "nbconvert_exporter": "python",
   "pygments_lexer": "ipython3",
   "version": "3.7.3"
  },
  "varInspector": {
   "cols": {
    "lenName": 16,
    "lenType": 16,
    "lenVar": 40
   },
   "kernels_config": {
    "python": {
     "delete_cmd_postfix": "",
     "delete_cmd_prefix": "del ",
     "library": "var_list.py",
     "varRefreshCmd": "print(var_dic_list())"
    },
    "r": {
     "delete_cmd_postfix": ") ",
     "delete_cmd_prefix": "rm(",
     "library": "var_list.r",
     "varRefreshCmd": "cat(var_dic_list()) "
    }
   },
   "types_to_exclude": [
    "module",
    "function",
    "builtin_function_or_method",
    "instance",
    "_Feature"
   ],
   "window_display": false
  }
 },
 "nbformat": 4,
 "nbformat_minor": 2
}
